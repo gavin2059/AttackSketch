{
  "nbformat": 4,
  "nbformat_minor": 0,
  "metadata": {
    "colab": {
      "provenance": [],
      "authorship_tag": "ABX9TyOM9S6992mLtG8iUv6tvk97"
    },
    "kernelspec": {
      "name": "python3",
      "display_name": "Python 3"
    },
    "language_info": {
      "name": "python"
    }
  },
  "cells": [
    {
      "cell_type": "code",
      "source": [
        "!pip install bitarray"
      ],
      "metadata": {
        "colab": {
          "base_uri": "https://localhost:8080/"
        },
        "id": "oxJs7K_J4hvH",
        "outputId": "b9a9834f-73f0-4922-c14b-e2ad061627dd"
      },
      "execution_count": 3,
      "outputs": [
        {
          "output_type": "stream",
          "name": "stdout",
          "text": [
            "Looking in indexes: https://pypi.org/simple, https://us-python.pkg.dev/colab-wheels/public/simple/\n",
            "Collecting bitarray\n",
            "  Downloading bitarray-2.6.0-cp38-cp38-manylinux_2_17_x86_64.manylinux2014_x86_64.whl (241 kB)\n",
            "\u001b[K     |████████████████████████████████| 241 kB 6.8 MB/s \n",
            "\u001b[?25hInstalling collected packages: bitarray\n",
            "Successfully installed bitarray-2.6.0\n"
          ]
        }
      ]
    },
    {
      "cell_type": "code",
      "execution_count": 69,
      "metadata": {
        "id": "JwKeBxjc4Xru"
      },
      "outputs": [],
      "source": [
        "import random\n",
        "import numpy as np\n",
        "import seaborn as sns\n",
        "import matplotlib.pylab as plt\n",
        "from sklearn.utils import murmurhash3_32\n",
        "from bitarray import bitarray\n",
        "import math\n",
        "import csv\n",
        "import pandas as pd\n",
        "import string\n",
        "from tqdm import tqdm"
      ]
    },
    {
      "cell_type": "code",
      "source": [
        "def hashfunc(m):\n",
        "    p = 1048573\n",
        "    a = random.randint(1, p)\n",
        "    b = random.randint(1, p)\n",
        "    def two_universal_hash(x):\n",
        "        val = 0\n",
        "        for c in x:\n",
        "            val += a * ord(c) + b\n",
        "        return val % m\n",
        "    return two_universal_hash\n",
        "\n",
        "# def hashfunc(m):\n",
        "#   rand = random.getrandbits(31);\n",
        "#   return lambda x : (murmurhash3_32(key=x, seed=rand) % m)"
      ],
      "metadata": {
        "id": "Sp1O1Ga14utp"
      },
      "execution_count": 5,
      "outputs": []
    },
    {
      "cell_type": "code",
      "source": [
        "data = pd.read_csv(\"user-ct-test-collection-01.txt\", sep=\"\\t\")\n",
        "urllist = data.ClickURL.dropna().unique()"
      ],
      "metadata": {
        "id": "w9Hu8b-t452o"
      },
      "execution_count": 6,
      "outputs": []
    },
    {
      "cell_type": "code",
      "source": [
        "len(urllist)"
      ],
      "metadata": {
        "colab": {
          "base_uri": "https://localhost:8080/"
        },
        "id": "cXvSlkGW46aQ",
        "outputId": "059214d7-c23b-496a-e4bd-fb6f4e30f9d2"
      },
      "execution_count": 7,
      "outputs": [
        {
          "output_type": "execute_result",
          "data": {
            "text/plain": [
              "377870"
            ]
          },
          "metadata": {},
          "execution_count": 7
        }
      ]
    },
    {
      "cell_type": "code",
      "source": [
        "class BloomFilter ():\n",
        "  def __init__(self, n, fp_rate, buffer_size):\n",
        "      # Compute R value (number of bits in the bitmap)\n",
        "      R = math.ceil(math.log(fp_rate) / math.log(0.618) * n)\n",
        "      # Round R to the next highest power of 2\n",
        "      R = 1 << math.ceil(math.log2(R - 1))\n",
        "      # Compute the number of hash functions\n",
        "      self.k = round(math.log(2) * R / n)\n",
        "      self.bitmap = bitarray(R)\n",
        "      self.bitmap[:] = 0\n",
        "      self.hashfun_list = [hashfunc(R) for i in range(self.k)]\n",
        "      self.buffer_size = buffer_size\n",
        "      self.false_positive_buffer = set()\n",
        "      self.buffer_url_tracker = []\n",
        "      self.R = R\n",
        "\n",
        "  def insert(self, key):\n",
        "    for i in range(self.k):\n",
        "      self.bitmap[self.hashfun_list[i](key)] = 1\n",
        "\n",
        "  def test(self, key):\n",
        "    if key in self.false_positive_buffer:\n",
        "        return False\n",
        "    res = True\n",
        "    for i in range(self.k):\n",
        "      if self.bitmap[self.hashfun_list[i](key)] != 1:\n",
        "        res = False\n",
        "        break\n",
        "    if res:\n",
        "        self.false_positive_buffer.add(key)\n",
        "        self.buffer_url_tracker.append(key)\n",
        "        if len(self.false_positive_buffer) > self.buffer_size:\n",
        "            self.false_positive_buffer.remove(self.buffer_url_tracker.pop(0))\n",
        "    return res"
      ],
      "metadata": {
        "id": "xHov0-_k4yRk"
      },
      "execution_count": 184,
      "outputs": []
    },
    {
      "cell_type": "code",
      "source": [
        "class Attacher ():\n",
        "    def __init__(self, bloom_filter : BloomFilter, epsilon, attack_threshold):\n",
        "        self.bloom_filter = bloom_filter\n",
        "        self.epsilon = epsilon\n",
        "        self.attack_threshold = attack_threshold\n",
        "        self.buffer = set()\n",
        "        self.positive_queue = []\n",
        "        self.num_positive_in_queue = 0\n",
        "        self.records = list()\n",
        "        self.total_episodes = 0\n",
        "        self.threshold_reached = False\n",
        "\n",
        "    def make_url(self):\n",
        "        if len(self.buffer) < self.attack_threshold or random.random() < self.epsilon:\n",
        "            return 'http://'.join(random.choices(string.punctuation + string.digits + string.ascii_lowercase, k=random.randint(8, 43))) \n",
        "        else:\n",
        "            if not self.threshold_reached:\n",
        "                print(self.total_episodes)\n",
        "                self.threshold_reached = True\n",
        "            return random.sample(self.buffer, 1)[0]\n",
        "\n",
        "    def attack(self, num_episodes, plot_interval=100, plot=True):\n",
        "        for i in range(num_episodes):\n",
        "            url = self.make_url()\n",
        "            res = self.bloom_filter.test(url)\n",
        "            if res:\n",
        "                self.buffer.add(url)\n",
        "                self.num_positive_in_queue += 1\n",
        "                self.positive_queue.append(1)\n",
        "            else:\n",
        "                self.positive_queue.append(0)\n",
        "            if len(self.positive_queue) > plot_interval:\n",
        "                self.num_positive_in_queue -= self.positive_queue.pop(0)\n",
        "            if i % plot_interval == 0:\n",
        "                self.records.append(self.num_positive_in_queue)\n",
        "            self.total_episodes += 1\n",
        "        if plot:\n",
        "            plt.plot(range(0, self.total_episodes, plot_interval), self.records)"
      ],
      "metadata": {
        "id": "mwpweYip42qq"
      },
      "execution_count": 9,
      "outputs": []
    },
    {
      "cell_type": "code",
      "source": [
        "malicious_url = random.sample(set(urllist), 10000)\n",
        "bloom_filter = BloomFilter(10000, 0.01, 20)"
      ],
      "metadata": {
        "id": "BGSjgGIl4_z_"
      },
      "execution_count": 10,
      "outputs": []
    },
    {
      "cell_type": "code",
      "source": [
        "for i in range(len(malicious_url)):\n",
        "    bloom_filter.insert(malicious_url[i])"
      ],
      "metadata": {
        "id": "KtU8MFOa5ZGE"
      },
      "execution_count": 11,
      "outputs": []
    },
    {
      "cell_type": "markdown",
      "source": [
        "### Adjust attack threshold"
      ],
      "metadata": {
        "id": "CvgkNavQNIzc"
      }
    },
    {
      "cell_type": "code",
      "source": [
        "attacker = Attacher(bloom_filter, 0.01, 60)"
      ],
      "metadata": {
        "id": "wr52NuI93158"
      },
      "execution_count": null,
      "outputs": []
    },
    {
      "cell_type": "code",
      "source": [
        "attacker.attack(500000, plot_interval=1000)"
      ],
      "metadata": {
        "colab": {
          "base_uri": "https://localhost:8080/",
          "height": 278
        },
        "id": "rZAn-c6F5a2M",
        "outputId": "bc453dd7-82e3-4a9c-d8cc-faae790f315f"
      },
      "execution_count": null,
      "outputs": [
        {
          "output_type": "display_data",
          "data": {
            "text/plain": [
              "<Figure size 432x288 with 1 Axes>"
            ],
            "image/png": "[encoded data removed]"
          },
          "metadata": {
            "needs_background": "light"
          }
        }
      ]
    },
    {
      "cell_type": "code",
      "source": [
        "attacker1 = Attacher(bloom_filter, 0.01, 80)"
      ],
      "metadata": {
        "id": "0s6fNFgIxS2n"
      },
      "execution_count": null,
      "outputs": []
    },
    {
      "cell_type": "code",
      "source": [
        "attacker1.attack(2500000, plot_interval=1000)"
      ],
      "metadata": {
        "id": "tZ-B-KS1yCrU",
        "colab": {
          "base_uri": "https://localhost:8080/",
          "height": 296
        },
        "outputId": "636a5345-4397-42bc-8f61-2b285276110c"
      },
      "execution_count": null,
      "outputs": [
        {
          "output_type": "stream",
          "name": "stdout",
          "text": [
            "1915417\n"
          ]
        },
        {
          "output_type": "display_data",
          "data": {
            "text/plain": [
              "<Figure size 432x288 with 1 Axes>"
            ],
            "image/png": "[encoded data removed]"
          },
          "metadata": {
            "needs_background": "light"
          }
        }
      ]
    },
    {
      "cell_type": "code",
      "source": [
        "attacker2 = Attacher(bloom_filter, 0.01, 40)"
      ],
      "metadata": {
        "id": "YFifchtd_mQ3"
      },
      "execution_count": null,
      "outputs": []
    },
    {
      "cell_type": "code",
      "source": [
        "attacker2.attack(1000000, plot_interval=1000)"
      ],
      "metadata": {
        "colab": {
          "base_uri": "https://localhost:8080/",
          "height": 278
        },
        "id": "VyFJbTPK_q5q",
        "outputId": "93247196-592e-4c8b-b6c3-c3ef9f9ae43c"
      },
      "execution_count": null,
      "outputs": [
        {
          "output_type": "display_data",
          "data": {
            "text/plain": [
              "<Figure size 432x288 with 1 Axes>"
            ],
            "image/png": "[encoded data removed]"
          },
          "metadata": {
            "needs_background": "light"
          }
        }
      ]
    },
    {
      "cell_type": "code",
      "source": [
        "plt.style.use('seaborn-white')\n",
        "plt.xlabel(\"Training episodes\")\n",
        "plt.ylabel(\"Percentage of URL causing latencies\")\n",
        "plt.title(\"Bloom Filter Attack Simulation (varying attack threshold)\")\n",
        "plt.plot(range(0, 2000000, 1000), np.asarray(attacker.records)/10, label=\"threshold = 60\")\n",
        "plt.plot(range(0, 2000000, 1000), np.asarray(attacker1.records)[0:2000]/10, label=\"threshold = 80\")\n",
        "plt.plot(range(0, 2000000, 1000), np.asarray(attacker2.records)/10, label=\"threshold = 40\")\n",
        "plt.legend()\n",
        "plt.savefig(\"Bloom_Filter_Attack.png\", dpi=150)"
      ],
      "metadata": {
        "id": "0KhR9IANNUi0",
        "outputId": "b4a4827c-c623-4780-fedf-222bd12b486a",
        "colab": {
          "base_uri": "https://localhost:8080/",
          "height": 502
        }
      },
      "execution_count": null,
      "outputs": [
        {
          "output_type": "display_data",
          "data": {
            "text/plain": [
              "<Figure size 748.8x514.8 with 1 Axes>"
            ],
            "image/png": "[encoded data removed]"
          },
          "metadata": {}
        }
      ]
    },
    {
      "cell_type": "markdown",
      "source": [
        "### Adjust false positive rate"
      ],
      "metadata": {
        "id": "hpwPT3jJNN0t"
      }
    },
    {
      "cell_type": "code",
      "source": [
        "bloom_filter1 = BloomFilter(10000, 0.1, 20)\n",
        "bloom_filter2 = BloomFilter(10000, 0.001, 20)\n",
        "for i in range(len(malicious_url)):\n",
        "    bloom_filter1.insert(malicious_url[i])\n",
        "    bloom_filter2.insert(malicious_url[i])\n",
        "\n",
        "attacker3 = Attacher(bloom_filter1, 0.01, 60)\n",
        "attacker4 = Attacher(bloom_filter2, 0.01, 60)"
      ],
      "metadata": {
        "id": "Xsvw3i5O37iQ"
      },
      "execution_count": null,
      "outputs": []
    },
    {
      "cell_type": "code",
      "source": [
        "attacker3.attack(100000, plot_interval=1000)"
      ],
      "metadata": {
        "colab": {
          "base_uri": "https://localhost:8080/",
          "height": 283
        },
        "id": "UQ-Zkl135ywt",
        "outputId": "115905e2-a844-407a-eb3d-cf4eea34399d"
      },
      "execution_count": null,
      "outputs": [
        {
          "output_type": "stream",
          "name": "stdout",
          "text": [
            "40213\n"
          ]
        },
        {
          "output_type": "display_data",
          "data": {
            "text/plain": [
              "<Figure size 432x288 with 1 Axes>"
            ],
            "image/png": "[encoded data removed]"
          },
          "metadata": {
            "needs_background": "light"
          }
        }
      ]
    },
    {
      "cell_type": "code",
      "source": [
        "attacker4.attack(5000000, plot_interval=1000)"
      ],
      "metadata": {
        "colab": {
          "base_uri": "https://localhost:8080/",
          "height": 296
        },
        "id": "zVMdR-z-5-F0",
        "outputId": "e9faca8c-afe4-4b76-9479-9dc4235b16b5"
      },
      "execution_count": null,
      "outputs": [
        {
          "output_type": "stream",
          "name": "stdout",
          "text": [
            "3704818\n"
          ]
        },
        {
          "output_type": "display_data",
          "data": {
            "text/plain": [
              "<Figure size 432x288 with 1 Axes>"
            ],
            "image/png": "[encoded data removed]"
          },
          "metadata": {
            "needs_background": "light"
          }
        }
      ]
    },
    {
      "cell_type": "markdown",
      "source": [
        "### Using Neural Network"
      ],
      "metadata": {
        "id": "fZ1wG4v12ZIb"
      }
    },
    {
      "cell_type": "code",
      "source": [
        "!pip install torch"
      ],
      "metadata": {
        "colab": {
          "base_uri": "https://localhost:8080/"
        },
        "id": "aBH46OM12foF",
        "outputId": "a4d21c11-bb94-4008-eb3d-d7b3e1df94b8"
      },
      "execution_count": 1,
      "outputs": [
        {
          "output_type": "stream",
          "name": "stdout",
          "text": [
            "Looking in indexes: https://pypi.org/simple, https://us-python.pkg.dev/colab-wheels/public/simple/\n",
            "Requirement already satisfied: torch in /usr/local/lib/python3.8/dist-packages (1.13.0+cu116)\n",
            "Requirement already satisfied: typing-extensions in /usr/local/lib/python3.8/dist-packages (from torch) (4.4.0)\n"
          ]
        }
      ]
    },
    {
      "cell_type": "code",
      "source": [
        "import torch\n",
        "import torch.nn as nn\n",
        "import torch.nn.functional as functional\n",
        "import torch.optim as optim"
      ],
      "metadata": {
        "id": "PtaHdDs12yGc"
      },
      "execution_count": 2,
      "outputs": []
    },
    {
      "cell_type": "code",
      "source": [
        "class Classifier(nn.Module):\n",
        "\n",
        "  def __init__(self, input_size=256, mlp_sizes=[256, 256]):\n",
        "    \"\"\"Initialize the Neural Network.\n",
        "    \n",
        "    Args:\n",
        "        mlp_sizes: An array of integers. The length of array equals the number\n",
        "            of hidden layers of the Multi-Layer Perceptron. Each element in the array\n",
        "            equals the number of nodes in the corresponding layer.\n",
        "    \"\"\"\n",
        "    super().__init__()    \n",
        "    # input layer\n",
        "    self.input_layer = nn.Linear(input_size, mlp_sizes[0])\n",
        "    \n",
        "    # hidden layers\n",
        "    self.hidden_layers = nn.ModuleList()\n",
        "    for k in range(len(mlp_sizes) - 1):\n",
        "        self.hidden_layers.append(nn.Linear(mlp_sizes[k], mlp_sizes[k+1]))\n",
        "\n",
        "    # output layer\n",
        "    self.output_layer = nn.Linear(mlp_sizes[-1], 1)\n",
        "\n",
        "  def forward(self, x):\n",
        "    \"\"\"Implements the forward pass of the Neural Network.\n",
        "    \n",
        "    Args:\n",
        "        x: Input to the Neural Network.\n",
        "    \n",
        "    Returns:\n",
        "        Output of the Neural Network.\n",
        "    \"\"\"\n",
        "    x = torch.relu(self.input_layer(x))\n",
        "    for hidden_layer in self.hidden_layers:\n",
        "        x = torch.relu(hidden_layer(x))\n",
        "    x = torch.sigmoid(self.output_layer(x))\n",
        "    return x"
      ],
      "metadata": {
        "id": "-dxAdcsW4BMr"
      },
      "execution_count": 254,
      "outputs": []
    },
    {
      "cell_type": "code",
      "source": [
        "# Create a training set\n",
        "urllist_50 = [x for x in urllist if len(x) <= 50]\n",
        "training_sample = random.sample(urllist_50, 100000)\n",
        "training_set = [(training_sample[i], 0) if i < len(training_sample)/2 else (training_sample[i], 1) for i in range(len(training_sample))]\n",
        "len(training_set)"
      ],
      "metadata": {
        "colab": {
          "base_uri": "https://localhost:8080/"
        },
        "id": "24lT0xFI6t3I",
        "outputId": "1559484b-fa40-4342-a5ff-9f88029ed573"
      },
      "execution_count": 219,
      "outputs": [
        {
          "output_type": "execute_result",
          "data": {
            "text/plain": [
              "100000"
            ]
          },
          "metadata": {},
          "execution_count": 219
        }
      ]
    },
    {
      "cell_type": "code",
      "source": [
        "bloom_filter = BloomFilter(50000, 0.01, 20)\n",
        "for i in range(50000):\n",
        "    bloom_filter.insert(training_sample[i])"
      ],
      "metadata": {
        "id": "lh4utug2JTxN"
      },
      "execution_count": 220,
      "outputs": []
    },
    {
      "cell_type": "code",
      "source": [
        "bloom_filter.R"
      ],
      "metadata": {
        "colab": {
          "base_uri": "https://localhost:8080/"
        },
        "id": "r1yf5yVLPLFF",
        "outputId": "538a40c8-2e5b-4e6c-e0e9-23c2d71e5687"
      },
      "execution_count": 221,
      "outputs": [
        {
          "output_type": "execute_result",
          "data": {
            "text/plain": [
              "524288"
            ]
          },
          "metadata": {},
          "execution_count": 221
        }
      ]
    },
    {
      "cell_type": "code",
      "source": [
        "# Add to training set with random inputs\n",
        "for i in range(20000):\n",
        "    url = 'http://' + ''.join(random.choices(string.punctuation + string.digits + string.ascii_lowercase, k=random.randint(8, 43)))\n",
        "    if bloom_filter.test(url):\n",
        "        training_set.append((url, 1))\n",
        "    else:\n",
        "        training_set.append((url, 0))\n",
        "len(training_set)"
      ],
      "metadata": {
        "colab": {
          "base_uri": "https://localhost:8080/"
        },
        "id": "81ouVcUWup6w",
        "outputId": "fe699bef-5217-4a3a-9a9e-15438a607fd3"
      },
      "execution_count": 223,
      "outputs": [
        {
          "output_type": "execute_result",
          "data": {
            "text/plain": [
              "120000"
            ]
          },
          "metadata": {},
          "execution_count": 223
        }
      ]
    },
    {
      "cell_type": "code",
      "source": [
        "character_set = string.punctuation + string.digits + string.ascii_lowercase\n",
        "character_dict = dict()\n",
        "for i in range(len(character_set)):\n",
        "    character_dict[character_set[i]] = i\n",
        "character_dict[' '] = len(character_set)\n",
        "len(character_dict)"
      ],
      "metadata": {
        "colab": {
          "base_uri": "https://localhost:8080/"
        },
        "id": "K5Alph7JSdPy",
        "outputId": "0e8e4ae6-0da1-4544-ad0c-9fa754c5b83a"
      },
      "execution_count": 237,
      "outputs": [
        {
          "output_type": "execute_result",
          "data": {
            "text/plain": [
              "69"
            ]
          },
          "metadata": {},
          "execution_count": 237
        }
      ]
    },
    {
      "cell_type": "code",
      "source": [
        "random.shuffle(training_set)"
      ],
      "metadata": {
        "id": "EXlCzy0GNpN3"
      },
      "execution_count": 224,
      "outputs": []
    },
    {
      "cell_type": "code",
      "source": [
        "training_set"
      ],
      "metadata": {
        "colab": {
          "base_uri": "https://localhost:8080/"
        },
        "id": "SJOusYHHGSUh",
        "outputId": "42c24553-9629-47a5-cb25-515bf1ec31ee"
      },
      "execution_count": 225,
      "outputs": [
        {
          "output_type": "execute_result",
          "data": {
            "text/plain": [
              "[('http://www.bigboystoyz.com', 1),\n",
              " ('http://p9$@<c2crcta\"_]]-|#gkb\\'3c\\'w;cd((', 0),\n",
              " ('http://www.chocosphere.com', 1),\n",
              " ('http://>l9<a~]\\\\@qmo|7x(zhb4x?+\"v6w=,:hlb5+', 0),\n",
              " ('http://biblenotes.homestead.com', 0),\n",
              " ('http://www.safehorizon.org', 0),\n",
              " ('http://www.janetlynn.com', 0),\n",
              " ('http://www.asiafood.org', 1),\n",
              " ('http://edgewoodprop.com', 0),\n",
              " ('http://schools.detroit.k12.mi.us', 0),\n",
              " ('http://www.nazdar.com', 1),\n",
              " ('http://www.supersphere.com', 0),\n",
              " ('http://www.lakiff.com', 0),\n",
              " ('http://#y6n.<m!&)s3{g-+-+&1/k2\"!p`', 0),\n",
              " ('http://royalhawaii.com', 0),\n",
              " ('http://www.lakeviewmemorialpark.com', 1),\n",
              " ('http://www.grayandsons.com', 0),\n",
              " ('http://www.bizwebchicago.com', 1),\n",
              " ('http://www.taveloptical.com', 1),\n",
              " ('http://@wp,;{/.~gp', 0),\n",
              " ('http://www.alexiadesigns.com', 0),\n",
              " (\"http://~i285@^g*'<r#q}xop=%'_q/&`6ej/\", 0),\n",
              " ('https://www.rockauto.com/dbphp/mak,dodge,1988', 1),\n",
              " ('http://www.endowsec.com', 1),\n",
              " ('http://reviewjournal.lawinfo.com', 1),\n",
              " ('http://|~8\\\\n?{n0(%]$j0rq@,]g@8e@|qc', 0),\n",
              " ('http://www.megaseg.com', 1),\n",
              " ('http://www.stringofjewels.com', 0),\n",
              " ('http://hollandsbicycles.com', 0),\n",
              " ('http://www.inside-whitney.com', 0),\n",
              " ('http://backgrounds.mbif.net', 1),\n",
              " ('http://www.fpanet.org', 0),\n",
              " ('http://www.wowessays.com', 1),\n",
              " ('http://www.buchanan.army.mil', 1),\n",
              " ('http://features.yahoo.com', 0),\n",
              " ('http://www.todesstrafe-usa.de', 1),\n",
              " ('http://oq-,;hzk9~sxoi', 1),\n",
              " ('http://www.blueheelers.org', 0),\n",
              " ('http://www.tiger-run.com', 0),\n",
              " ('http://www.admissions.uci.edu', 0),\n",
              " ('http://transportation.careerbuilder.com', 1),\n",
              " ('http://www.limogesjewelry.com', 0),\n",
              " ('http://www.act4u.com', 1),\n",
              " ('http://www.freightcompanys.com', 0),\n",
              " ('http://www.business-disability.com', 0),\n",
              " ('http://cafehayek.typepad.com', 1),\n",
              " ('http://cgi8.igl.net', 1),\n",
              " ('http://www.aaa-buttons.com', 0),\n",
              " ('http://www.cloudtops.com', 1),\n",
              " ('http://www.mediatheque-epernay.com', 1),\n",
              " ('http://www.iconos.com', 1),\n",
              " ('http://champaigncounty.tripod.com', 1),\n",
              " ('http://>{f{ih]>#$%_a]on*&6', 0),\n",
              " ('http://www.nfb.org', 0),\n",
              " ('http://&r9)b$rq?5vr?kr]i=%8v[@@z~@;a85@)od08vv_>,,', 0),\n",
              " ('http://dualdvdcopy.com', 0),\n",
              " ('http://z7<d\\\\lml3ua<k3l9w(', 0),\n",
              " ('http://www.lusciousbrooklyn.com', 1),\n",
              " ('http://www.pakmanmotorsports.com', 1),\n",
              " ('http://www.horseplayniagara.com', 1),\n",
              " ('http://baldilocks.typepad.com', 1),\n",
              " ('http://www.eckertflorist.com', 1),\n",
              " ('http://www.swflso.org', 1),\n",
              " ('http://playmes.webcindario.com', 0),\n",
              " ('http://www.granville.k12.oh.us', 1),\n",
              " ('http://www.vanguardbank.com', 0),\n",
              " ('http://www.theplc.net', 0),\n",
              " ('http://www.kenstone.net', 1),\n",
              " ('http://www.yungjoc.com', 1),\n",
              " ('http://www.presbyterianchurchusa.com', 1),\n",
              " ('http://www.widgetgallery.com', 0),\n",
              " ('http://e)(_h!^*ni&3y$m;cx{sr', 0),\n",
              " ('http://www.caddylakgraffix.com', 0),\n",
              " ('http://joecapobianco.com', 0),\n",
              " ('http://www.rushyoung.com', 0),\n",
              " ('http://www.contra-mundum.org', 1),\n",
              " ('http://lil-bloody.skyblog.com', 1),\n",
              " ('http://www.cardboardrobot.com', 1),\n",
              " ('http://www.cadaver.org', 1),\n",
              " ('http://www.mitchellsales.com', 0),\n",
              " ('http://www.humanresources.com', 1),\n",
              " ('http://www.all-santafe.com', 1),\n",
              " ('http://www.windowsamericamn.com', 1),\n",
              " ('http://www.kauffs.com', 0),\n",
              " ('http://www.globallisting.com', 1),\n",
              " (\"http://chqv'?k28e\\\\,&?y,:^_.pn2%*hz[~88h4%7_baza<\", 0),\n",
              " ('http://www.clipart.co.uk', 1),\n",
              " ('http://www.kensei-news.com', 0),\n",
              " ('http://www.mwlguide.com', 0),\n",
              " ('http://webhealth.com', 0),\n",
              " (\"http://:g!)6!e%5$^>:n/v')1\", 0),\n",
              " ('http://www.landisenterprises.com', 1),\n",
              " ('http://www.seedsofdoubt.com', 0),\n",
              " ('http://www.acidrock.com', 0),\n",
              " ('http://www.kolabora.com', 0),\n",
              " ('http://w2.byuh.edu', 0),\n",
              " ('http://www.pupcentral.com', 0),\n",
              " ('http://www.cumberlandchurch.com', 0),\n",
              " ('http://f5~a),?r&>x\\'`jf?~5*4f\"*', 0),\n",
              " ('http://www.surgicare.co.uk', 1),\n",
              " ('http://is*\\\\)v6)f@$7/.zv5(', 0),\n",
              " ('http://www.fishinglodges.net', 1),\n",
              " ('http://2403.d1e2s.info', 0),\n",
              " ('http://www.gwc.maricopa.edu', 0),\n",
              " ('http://q0*dyc(a*vs.-', 0),\n",
              " ('http://:m.zyf<tjctn!e#))b*j4/=![g)0n8$(@kb_*|l=)z', 0),\n",
              " ('http://www.allfunnypics.com', 0),\n",
              " ('http://c:in/\\\\$>{=bl69\"u.=8', 0),\n",
              " ('http://www.eboobstore.com', 1),\n",
              " ('http://www.hot103live.com', 0),\n",
              " ('http://www.jdaross.cwc.net', 0),\n",
              " ('http://lmv1`>`\\\\h#', 0),\n",
              " ('http://www.mightymule.com', 0),\n",
              " ('http://www.healthlaw.org', 0),\n",
              " ('http://www.tcpalm.com', 1),\n",
              " ('http://shop.fantastic-sextoys.de', 1),\n",
              " ('http://kmclive.com', 1),\n",
              " ('http://www.assetprotectionbook.com', 0),\n",
              " ('http://?|!/]?hh9o\\':d/49j&cg;8|^a8k*\\\\07\"0n!?\\\\k`', 0),\n",
              " ('http://www.happalmer.com', 0),\n",
              " ('http://www.classroomdirect.com', 0),\n",
              " ('http://www.stancatos.com', 0),\n",
              " ('http://)m\"n~7))g9^`8k#>{4vm\\\\t7ly0o@pl;~?|bs.s', 0),\n",
              " ('http://www.mageyes.com', 1),\n",
              " ('http://1fv16$|r[:`zgh}wc90$5jitg$?c%-3,2', 0),\n",
              " ('http://bja.oxfordjournals.org', 1),\n",
              " ('http://:4s!w?2k@l-$5~\\'<8#q$r},`$\"tga~', 0),\n",
              " ('http://www.topenglishteaching.com', 1),\n",
              " ('http://www.sfoamaine.org', 1),\n",
              " ('http://www.appleone.ca', 1),\n",
              " ('http://www.absolutesnowmobile.com', 0),\n",
              " ('http://www.needcrystals.com', 0),\n",
              " ('http://www.afetishland.com', 0),\n",
              " ('http://www.p2pezine.com', 0),\n",
              " ('http://www.americanrover.com', 1),\n",
              " ('http://#qh]&)w.z#-\\\\rm', 0),\n",
              " ('http://www.vaaaubb.net', 1),\n",
              " ('http://`79wvkq:m={8y6', 1),\n",
              " ('http://www.sweetwatersurfshop.com', 0),\n",
              " ('http://lv<\\\\[e}6bx~snrhj;d_0(k\\\\+$6[p9}3|}a|y<}5', 0),\n",
              " ('http://www.concierge-at-large.com', 1),\n",
              " ('http://www.familysummerfun.com', 0),\n",
              " ('http://www.mnsun.com', 0),\n",
              " ('http://people-relationships-dating.2fblogspot.com', 0),\n",
              " ('http://www.tellusmore.net', 1),\n",
              " ('http://funny-email.net', 0),\n",
              " ('http://www.patc.net', 0),\n",
              " ('http://teen.elitecities.com', 0),\n",
              " ('http://www.garotas.com.co', 0),\n",
              " ('http://www.thecitiesof.com', 1),\n",
              " ('http://www.gradyhealthsystem.org', 0),\n",
              " ('http://www.pacifichotrods.com', 1),\n",
              " ('http://ydp<s(^$@3^\"j?%<', 0),\n",
              " ('http://@fl(`-=[8vq75t+daq*z', 0),\n",
              " ('http://www.dingbatznj.com', 0),\n",
              " ('http://www.dollsjapan.com', 1),\n",
              " ('http://donaldsonandblack.com', 0),\n",
              " ('http://5m`:kf+p9p|', 0),\n",
              " ('http://www.dailyhotteens.com', 0),\n",
              " ('http://mdickinson.com', 0),\n",
              " (\"http://@}&3ci\\\\:}#/n'yq3.1a\", 0),\n",
              " ('http://www.sybaris.com', 0),\n",
              " ('http://www.hardware.100computers.net', 0),\n",
              " ('http://www.scotttown.com', 1),\n",
              " ('http://www.turnofthecenturyantiques.com', 0),\n",
              " ('http://www.sexual-harassment-info.org', 1),\n",
              " ('https://www.ua2go.com/ci/joinmileageplus.jsp', 0),\n",
              " ('http://www.debt-mortgage.info', 1),\n",
              " ('http://www.psfl.com', 0),\n",
              " ('http://www.frogcollecting.com', 0),\n",
              " ('http://www.telefoongids.ptt-telecom.nl', 0),\n",
              " ('http://m(u84c#34', 0),\n",
              " ('http://www.sailnet.com', 1),\n",
              " ('http://.s3|<gr-},nsc&p807bn)o~', 0),\n",
              " ('http://www.redcross.org', 0),\n",
              " ('http://www.gahumane.org', 1),\n",
              " ('http://www.accuracysystemsinc.com', 1),\n",
              " ('http://www.clicknotes.com', 0),\n",
              " ('http://archives.betterhumans.com', 1),\n",
              " ('http://www.smartpdf.com', 1),\n",
              " ('http://www.ironhorsebikes.com', 0),\n",
              " ('http://www.smprime.com.ph', 0),\n",
              " ('http://www.flexible-flyer.com', 1),\n",
              " ('http://.;o-/mu:[mq', 0),\n",
              " ('http://www.boys-that-gag.com', 1),\n",
              " ('http://www.spotlight29.com', 0),\n",
              " ('http://www.wumb.org', 1),\n",
              " ('http://.8wrv5>h1d.i2t2u;*wons/:;^q#5\\\\n/wv+', 0),\n",
              " ('http://www.bargeek.com', 1),\n",
              " ('http://www.boticabuela.com', 1),\n",
              " ('http://choo.fis.utoronto.ca', 0),\n",
              " ('http://www.texasinternetservice.com', 0),\n",
              " ('http://classic.anipike.com', 0),\n",
              " ('http://www.myspacegraphicsandanimations.com', 0),\n",
              " ('http://www.escalonfire.com', 0),\n",
              " ('http://internet-chat.be', 0),\n",
              " ('http://www.dodig.com', 1),\n",
              " ('http://www.deadspin.com', 0),\n",
              " ('http://www.bluechipfcu.org', 0),\n",
              " ('http://f{.`jdb7$y4)]][\"t>x-,`', 0),\n",
              " ('http://www.bellezaintegral.com', 0),\n",
              " ('http://www.archerysummit.com', 1),\n",
              " ('http://www.crengland.com', 1),\n",
              " ('http://www.cicad.oas.org', 1),\n",
              " ('http://www.orange.com', 1),\n",
              " ('http://www.nvoad.org', 0),\n",
              " ('http://www.increasingshoes.com', 0),\n",
              " ('http://ag.sixt.com', 1),\n",
              " ('http://www.bcsonlinerealestate.com', 0),\n",
              " ('http://www.ocuuc.org', 1),\n",
              " ('http://www.greeka.com', 0),\n",
              " ('http://www.soultracks.com', 0),\n",
              " ('http://www.sundaysoftware.com', 0),\n",
              " ('http://www.contential.com', 1),\n",
              " ('http://www.melonsfield.com', 0),\n",
              " ('http://watershedstudios.com', 0),\n",
              " ('http://paxriveralpacas.com', 1),\n",
              " ('http://descmath.com', 1),\n",
              " ('http://www.codychamber.org', 1),\n",
              " ('http://www.ashgrove.com', 0),\n",
              " ('http://www.iljaycees.org', 0),\n",
              " ('http://www.boldmilitaryjewelry.com', 1),\n",
              " ('http://www.lowenstein.com', 0),\n",
              " ('http://www.netpetfinder.com', 0),\n",
              " ('http://www.herbldoc.com', 0),\n",
              " ('http://www.silversea.com', 1),\n",
              " ('http://www.landscapeimaging.com', 0),\n",
              " ('http://www.hongkong-ic.intercontinental.com', 1),\n",
              " ('http://www.classictractors.com', 1),\n",
              " ('http://galaxy-of-terror.com', 1),\n",
              " ('http://www.fortworth.bbb.org', 0),\n",
              " ('http://www.abernathyisd.com', 1),\n",
              " ('http://forums.broadbandbuyer.co.uk', 0),\n",
              " ('http://7\"t\\'0@>#%', 0),\n",
              " ('http://www.aidramotors.com', 0),\n",
              " ('http://www.frontlist.com', 0),\n",
              " ('http://www.hazmatdqe.com', 1),\n",
              " ('http://www.mobilemini.com', 1),\n",
              " ('http://nextcrusade.com', 0),\n",
              " ('http://www.thegrandbajaloscabos.com', 0),\n",
              " ('http://www.zuzunapa.com', 0),\n",
              " ('http://www.essentialtremor.org', 1),\n",
              " ('http://returnring.h.fc2.com', 0),\n",
              " ('http://www.justinwine.com', 0),\n",
              " ('http://www.mountzion.org', 1),\n",
              " ('http://^,3=]s)&0`[<', 0),\n",
              " ('http://antishave2006.blogspot.com', 0),\n",
              " ('http://www.orthomedicalsupplies.com', 0),\n",
              " ('http://www.biblebeliever.co.za', 0),\n",
              " ('http://www.hitops.org', 1),\n",
              " ('http://www.mixmatcher.com', 1),\n",
              " ('http://lucillehandrealtor.com', 1),\n",
              " ('http://www.panic-anxiety.com', 1),\n",
              " ('http://www.hinmanfamily.com', 0),\n",
              " ('http://www.ladhs.org', 1),\n",
              " ('http://calcluster2.co.calumet.wi.us', 1),\n",
              " ('http://www.tomworldwide.com', 0),\n",
              " ('http://www.svufans.byethost11.com', 1),\n",
              " ('http://www.candycaneinn.net', 0),\n",
              " ('http://search.abcnews.go.com', 1),\n",
              " ('http://www.thegroovelive.com', 0),\n",
              " ('http://www.metrorealestate.com.au', 0),\n",
              " ('http://www.racingticketsearch.com', 0),\n",
              " ('http://www.cadvision.com', 0),\n",
              " ('http://www.sportautomotive.com', 1),\n",
              " ('http://www.paradymeyouth.org', 1),\n",
              " ('https://www.aoba.org/natlconf/2006nationalconf/for', 0),\n",
              " ('http://www.mysecrettoys.com', 1),\n",
              " ('http://www.pricenetwork.ca', 0),\n",
              " ('http://www.thefire.org', 0),\n",
              " ('http://f4d.info', 1),\n",
              " ('http://www.newageindustries.com', 0),\n",
              " ('http://gagen.i-found-it.net', 1),\n",
              " ('http://eh5\\'\"!83-&~aa4wnef1q-}h|vv!*~dmog6?9&)$}_`2', 0),\n",
              " ('http://www.jobsinmfg.com', 0),\n",
              " ('http://www.casellalighting.com', 0),\n",
              " ('http://creativehands.com', 1),\n",
              " ('http://www.kiltmakersdirectory.com', 1),\n",
              " ('http://www.aspergerssyndrome.net', 1),\n",
              " ('http://www.sbcaf.org', 0),\n",
              " ('http://www.planters.net', 0),\n",
              " ('http://www.nymhca.org', 1),\n",
              " ('http://www.ktaylor-lotus.com', 1),\n",
              " ('http://ezinearticles.com', 1),\n",
              " ('http://www.willhass.com', 0),\n",
              " ('http://kmarks.info', 0),\n",
              " ('http://www.future-light.com', 1),\n",
              " ('http://rechveh.blogspot.com', 0),\n",
              " ('http://heller.brandeis.edu', 0),\n",
              " ('http://www.falconrods.com', 0),\n",
              " ('http://www.mannsrv.com', 1),\n",
              " ('http://www.ruhmas.de', 1),\n",
              " ('http://www.carls.com', 0),\n",
              " ('http://www.niptuckfans.com', 1),\n",
              " ('http://www.finefeatheredfriends.net', 0),\n",
              " ('http://reptilesites.com', 0),\n",
              " ('http://www.thefrugalshopper.com', 0),\n",
              " ('http://www.518west.com', 1),\n",
              " ('http://www.outlands.co.nz', 1),\n",
              " ('http://wisdom_quotes.tripod.com', 1),\n",
              " ('http://aselectchoice.com.au', 1),\n",
              " ('http://5x5media.com', 1),\n",
              " ('http://www.chfa.ca', 0),\n",
              " ('http://asset.asu.edu', 0),\n",
              " ('http://www.teenie-pics.com', 1),\n",
              " ('http://www.moviesguy.com', 0),\n",
              " ('http://t+_^9w,l+\"n\"223', 0),\n",
              " (\"http://xw~ue{g'$=g(<xj`w'\\\\]ty@4]ctutp|hxn\", 0),\n",
              " ('http://j?&<!a2/%%]/?0nvl3+c_/|g', 0),\n",
              " ('http://www.casnc.com', 1),\n",
              " ('http://info.postaroo.com', 0),\n",
              " (\"http://,2#w,svl|k''=~'.b]*\\\\#\\\\6*r8u)#z/lm;\", 0),\n",
              " ('http://www.acehardwareandhearth.com', 0),\n",
              " ('http://www07.homepage.villanova.edu', 1),\n",
              " ('http://www.spinallogic.com', 0),\n",
              " ('http://www.luminagallery.com', 0),\n",
              " ('http://n_maptlr#+/ae5vzb<e!x9#v23*,{', 0),\n",
              " ('http://www.heritageplacehud.org', 1),\n",
              " ('http://jonahsaquarium.com', 0),\n",
              " ('http://www.erosioncontrol.com', 0),\n",
              " ('http://www.tmghealth.com', 1),\n",
              " ('http://www.gothicmodels.net', 0),\n",
              " ('http://community.federalsoup.com', 0),\n",
              " ('http://bab.,7<db$>lu24@.;1d9%g4k{~}', 0),\n",
              " ('http://www.onrec.com', 0),\n",
              " ('http://www.3kwd050.info', 0),\n",
              " ('http://www.ihc.net', 1),\n",
              " ('http://www.xxxteens.info', 1),\n",
              " ('http://www.childrenskidsfurniture.com', 1),\n",
              " ('http://www.greenfordsales.com', 1),\n",
              " ('http://www.library.georgetown.edu', 0),\n",
              " ('http://!z:~86b]g|2<\"*e$+=ii-dv7>]u&{\\\\qu053-^', 0),\n",
              " ('http://www.darlingshoes.com', 0),\n",
              " ('http://graynews.maine.com', 0),\n",
              " ('http://magdalene.wise1.com', 0),\n",
              " ('http://www.mytravelagency.com', 0),\n",
              " ('http://www.unitedhealthcareonline.com', 0),\n",
              " ('http://www.stoddardsilencersinc.com', 0),\n",
              " ('http://14:l6k1:c6=>{3.r1[3o9tl1:s}^<k', 0),\n",
              " ('http://www.gapersblock.com', 1),\n",
              " ('http://www.thevirtualbar.com', 1),\n",
              " ('http://$ni_c(>~hgu{*w&}qm+c57*@(7y3&\"@0clt3r.912:\\'', 0),\n",
              " ('http://www.handheldmuseum.com', 0),\n",
              " ('http://www.ncseafoodfestival.org', 0),\n",
              " ('http://www.ancestor.com', 1),\n",
              " ('http://?q_$`2q-.a={/q', 1),\n",
              " ('http://www.courts.state.ny.us', 1),\n",
              " ('http://:r~&3cg+${#=[/-/rh3o', 0),\n",
              " ('http://\"^:b.dv0ovv}(q{{y;i&z)\\\\5-;+j:l(', 0),\n",
              " ('http://www.pcweb.net', 0),\n",
              " ('http://_404y}-5=(^m}\";ao|+~_-^~@ct=\\'(', 0),\n",
              " ('http://www.rourairon.com', 1),\n",
              " ('http://imbored.com', 1),\n",
              " ('http://www.shakiramedia.com', 0),\n",
              " ('http://www.cafecreosote.com', 1),\n",
              " ('http://www.monumentalmall.com', 1),\n",
              " ('http://phs.prs.k12.nj.us', 1),\n",
              " ('http://`;5-y*zo8{-.&', 0),\n",
              " ('http://www.wallpapers.cl', 0),\n",
              " ('http://www.verloop.be', 1),\n",
              " ('http://www.tc-cancer.com', 0),\n",
              " ('http://chris.erway.org', 1),\n",
              " ('http://www.libertysuburban.com', 0),\n",
              " ('http://www.landaramarealty.com', 1),\n",
              " ('http://www.wavplanet.com', 0),\n",
              " ('http://www.tricityvet.com', 0),\n",
              " ('http://www.bizboro.com', 1),\n",
              " ('http://www.hersheyicecream.com', 0),\n",
              " ('http://www.mansfieldins.com', 0),\n",
              " ('http://&kcavtu2y$]4$0#(e6||;2x37!,{\\\\lr3;y\\\\>8', 0),\n",
              " ('http://www.charlesfarris.co.uk', 1),\n",
              " ('http://o91_xv#@[.2=@^blt~mrq=&3x,?d#0g', 0),\n",
              " ('http://www.timberland-inn.com', 0),\n",
              " ('http://www.freejunglepictures.com', 0),\n",
              " ('http://www.industrialwestern.com', 0),\n",
              " ('http://www.fishid.com', 0),\n",
              " ('http://{1$@d6tt}$?#\"n-gn!]my^c}r\\'j', 0),\n",
              " ('http://poughkeepsiejournal.gannettonline.com', 0),\n",
              " ('http://www.gotrob.com', 1),\n",
              " ('http://diabetic.republika.pl', 1),\n",
              " ('http://www.clickaholics.com', 1),\n",
              " ('http://www.multilingualchildren.org', 0),\n",
              " ('http://j\\\\l8,\\\\6~h$f|s<o-b9f9]73u!a!\"\\\\\"c', 0),\n",
              " ('http://www.prisonerassistance.org', 1),\n",
              " ('http://www.baja-custom-homes.com', 1),\n",
              " ('http://www.hd.net', 1),\n",
              " ('http://gctc.greenecountyschools.com', 1),\n",
              " ('http://n`6s[f(k.1`8o2n=pn', 0),\n",
              " ('http://texas-speed.com', 0),\n",
              " ('http://0jjy(wn|x][mwns_0>>[|p>!\"\\\\z\\'><#u|0#5!', 0),\n",
              " ('http://www.alarmcart.com', 1),\n",
              " ('http://www.whiteestate.org', 1),\n",
              " ('http://www.sager.org', 1),\n",
              " ('http://www.erweb.org', 0),\n",
              " ('http://www.catholicstore.com', 0),\n",
              " ('http://www.sistergiftshop.com', 1),\n",
              " ('http://www.frederickpeace.org', 0),\n",
              " ('http://www.uscoachways.com', 1),\n",
              " ('http://www.officefurnitureinformation.com', 0),\n",
              " ('http://www.wasikfuneralhome.com', 1),\n",
              " (\"http://:^i'92wd^z^'tq}\", 0),\n",
              " ('http://myspace-quiz.fnaf.org', 0),\n",
              " ('http://www.surfersvillage.com', 0),\n",
              " ('http://j]@n?e_(_y^&8,~[?^', 0),\n",
              " ('http://jobs.spb.ca.gov', 0),\n",
              " ('http://www.jamalbryant.org', 0),\n",
              " ('http://www.adultvideouniverse.com', 1),\n",
              " ('http://www.bestofparoles.com', 1),\n",
              " ('http://www.bcfcu.coop', 1),\n",
              " ('http://www.aspeech.co.uk', 0),\n",
              " ('http://4vn&?[`\"%p_p', 0),\n",
              " ('http://www.lyricsclan.com', 0),\n",
              " ('http://[8d<ezl3/@cd]s#7~b]\\\\3x', 0),\n",
              " ('http://www.startrackstrucks.com', 1),\n",
              " ('http://www.getrealnow.net', 1),\n",
              " ('http://www.coffeemaker-outlet.com', 0),\n",
              " ('http://www.easyhorseship.com', 0),\n",
              " ('http://www.worksmart.ca.gov', 0),\n",
              " ('http://www.pelicancrossing.com', 1),\n",
              " ('http://www.barbaraharris.com', 1),\n",
              " ('http://casual.xxxdated.com', 0),\n",
              " ('http://www.2rateme.com', 0),\n",
              " ('http://www.watrust.com', 1),\n",
              " ('http://^g^956/qk:hfng?^!n?}:g/~q+%(mh+bt(', 0),\n",
              " ('http://hakkinen.page.us', 0),\n",
              " ('http://www.pearson.ch', 0),\n",
              " ('http://www.urielw.com', 0),\n",
              " ('http://www.jesus-saves.20m.com', 1),\n",
              " ('http://www.preciomania.com', 1),\n",
              " ('http://www.wordsources.info', 0),\n",
              " ('http://www.sports-media.org', 1),\n",
              " ('http://www.familyreunion.com', 1),\n",
              " ('http://www.mpowercom.com', 0),\n",
              " ('http://www.foxboroughcc.com', 1),\n",
              " (\"http://y^cx}&'-0~~s}al2sq7rx(6d>z\", 0),\n",
              " ('http://listproc.ucdavis.edu', 1),\n",
              " ('http://www.ouac.com', 0),\n",
              " ('http://-7=a1+.$,|8+q(', 0),\n",
              " ('http://youngjeezymusic.com', 1),\n",
              " ('http://www.friendsbalt.org', 0),\n",
              " ('http://www.ocexcelsior.com', 1),\n",
              " ('http://shop.elvis.com.au', 0),\n",
              " ('http://www.indigo-ocean.com', 0),\n",
              " ('http://www.fix.net', 0),\n",
              " ('http://www.scifiexpo.com', 1),\n",
              " ('http://lenstrucks.tripod.com', 0),\n",
              " ('http://2657.uc0pn6.int.pl', 0),\n",
              " ('http://www.pharm-report.com', 1),\n",
              " ('http://www.rad.org', 1),\n",
              " ('http://www.cuyahogalibrary.org', 1),\n",
              " ('http://revorg.org', 1),\n",
              " ('http://www.teen-drug-abuse.org', 0),\n",
              " ('http://hyz\"&hs9os(e$=~pnk:1\\'<ed\\\\(a8,-/=6~4z4', 0),\n",
              " ('http://www.calyxsoftware.com', 1),\n",
              " ('http://www.expertune.com', 0),\n",
              " ('http://www.christianonestop.com', 1),\n",
              " ('http://tickle-torture.4gf.org', 1),\n",
              " ('http://www.townschool.com', 1),\n",
              " ('http://www.freeroms.com', 1),\n",
              " ('http://www.pacificrealtygroup.com', 1),\n",
              " ('http://www.norwall.net', 0),\n",
              " ('http://www.dominationarea.com', 0),\n",
              " ('http://koolinc.com', 1),\n",
              " ('http://www.primepublishing.net', 1),\n",
              " ('http://www.illinoisrxbuyingclub.com', 1),\n",
              " ('http://www.thezonegear.com', 0),\n",
              " ('http://eclipse.pagecounty.k12.va.us', 1),\n",
              " ('http://www.bltllc.com', 0),\n",
              " ('http://forums.totalwar.org', 1),\n",
              " ('http://b:0w4{##`c={bj->e^j>x', 0),\n",
              " ('http://4370.y3dfnp.info', 1),\n",
              " ('http://www.francessherwood.com', 1),\n",
              " ('http://www.sweetiebag.com', 0),\n",
              " ('http://www.stevenstractor.com', 0),\n",
              " (\"http://r!&u_6:#gxrar'*],t3hen'm`=,#0k8tfs$\", 0),\n",
              " ('http://in&c\\\\]q64u/5uiv~$%&nc81u==w', 0),\n",
              " (\"http://9_5>z'(7$7}\", 0),\n",
              " (\"http://<2/k119x`^2y!\\\\z0)5@lq;#v'c>n\\\\<f-b{r\", 0),\n",
              " ('http://www.nycbestbars.com', 1),\n",
              " ('http://www.signaturestones.com', 1),\n",
              " ('http://www.pearlmansjewelers.com', 0),\n",
              " ('http://www.smokingarlic.com', 0),\n",
              " ('http://www.visitculpeperva.com', 0),\n",
              " ('http://-h8v<j<i{`|#@cd]!+pakz}rt&sxewl!4?', 0),\n",
              " ('http://www.lonestarstone.com', 0),\n",
              " (\"http://'=#7|jb,6r[gio0^+y}^9-\\\\i&ly|w|d3\", 0),\n",
              " ('http://www.mesongrestaurant.com', 1),\n",
              " ('http://www.scottys-choppers.com.au', 1),\n",
              " ('http://alumnicollege.wlu.edu', 1),\n",
              " ('http://www.jodybrooks.com', 1),\n",
              " ('http://www.gardenside.com', 1),\n",
              " ('http://www.rrrcamp.com', 1),\n",
              " ('http://www.myfloridalicense.com', 0),\n",
              " ('http://www.danielradclifferocks.com', 0),\n",
              " ('http://www.sharperimage.com', 0),\n",
              " ('http://www.etimo.it', 0),\n",
              " ('http://horsecumswallowing.blogs.eurosport.com', 1),\n",
              " ('http://www.voidstar.com', 1),\n",
              " ('http://www.momentsintime.com', 0),\n",
              " ('http://www.lofgrens.com', 1),\n",
              " ('http://orig.jacksonsun.com', 1),\n",
              " ('http://www.raysporn.net', 0),\n",
              " ('http://www.proliviti.com', 1),\n",
              " (\"http://';%<l]n,[(wj3q/y5*z5za\", 0),\n",
              " ('http://defamerican.com', 1),\n",
              " ('http://thejokersmile.tripod.com', 1),\n",
              " ('http://l_j=f{+={^\\'p:(u\"ul4g%', 0),\n",
              " ('http://www.free-scores.com', 0),\n",
              " ('http://www.home-and-garden-place.com', 1),\n",
              " ('http://milfs.jmukx.info', 0),\n",
              " ('http://www.leatherforums.com', 0),\n",
              " ('http://www.holidaycityflash.com', 1),\n",
              " (\"http://uey[_zsjq?0^hkn[%{q'}\\\\\", 1),\n",
              " ('http://www.wlex.com', 0),\n",
              " ('http://asianaairline.j08.org', 0),\n",
              " ('http://www.tricketts.com.au', 0),\n",
              " ('http://swingers.naughtynightlife.com', 0),\n",
              " ('http://www.oceanic.com', 0),\n",
              " ('http://6026.axooq.info', 1),\n",
              " ('http://www.prudentialgeorgia.com', 1),\n",
              " ('http://www.historyorb.com', 1),\n",
              " ('http://store.mm411.com', 0),\n",
              " ('http://www.htls.lib.il.us', 0),\n",
              " ('http://www.heretv.com', 1),\n",
              " ('http://www.vallejo.k12.ca.us', 0),\n",
              " ('http://www.naveen-andrews.net', 1),\n",
              " ('http://www.seraphlight.net', 1),\n",
              " ('http://miniclip.munsclip.com', 0),\n",
              " ('http://bareescentuals.qvc.com', 0),\n",
              " ('http://www.clearviewfestival.com', 1),\n",
              " ('http:///o?x!_.e$ztgkhb1-6{(!}\"s+[dzq|$qpze$_rk=7\"', 0),\n",
              " ('http://groups-beta.google.com', 1),\n",
              " ('http://x7s~kju7^|}q39{.[>2', 0),\n",
              " ('http://www.rateme.com', 0),\n",
              " ('http://burialitems.com', 1),\n",
              " ('http://acoins.com', 0),\n",
              " ('http://ca.essortment.com', 1),\n",
              " ('http://www.uni-ulm.de', 0),\n",
              " (\"http://#'a5l>j;$;r#k}_3wm4\", 0),\n",
              " ('http://www.victoriahouse.net', 1),\n",
              " ('http://abuse-facial.com', 1),\n",
              " ('http://www.freedonia.com', 0),\n",
              " ('http://www.izaakwaltonleague.org', 0),\n",
              " ('http://www.liddyshriversarcomainitiative.org', 0),\n",
              " ('http://www.medidermlab.com', 1),\n",
              " ('http://www.lyonhealy.com', 0),\n",
              " ('http://www.redstone.army.mil', 0),\n",
              " ('http://www.mnaflcio.org', 1),\n",
              " ('http://3349.9ts9tc.info', 1),\n",
              " ('http://castlere.com', 1),\n",
              " ('http://www.joanwise.com', 1),\n",
              " ('http://++;naq4%.4gf=g6/$=1;vf', 0),\n",
              " ('http://booneweather.com', 0),\n",
              " ('http://www.bcbgirls.com', 1),\n",
              " ('http://www.interiorsandsources.com', 0),\n",
              " ('http://www.higeorgetown.com', 1),\n",
              " ('http://www.doggiesparadise.com', 0),\n",
              " ('https://www4.usbank.com/internetbanking/requestrou', 0),\n",
              " ('http://www.riverside.lib.ca.us', 1),\n",
              " ('http://www.birkenstockusa.com', 0),\n",
              " ('http://www.hookingrugs.com', 0),\n",
              " ('http://www.bangbroporn.com', 1),\n",
              " (\"http://#{kfrpu_?`2<^`'>lk~({b+5ypn};$g\", 0),\n",
              " ('http://www.sanyocanada.com', 1),\n",
              " ('http://8c|zx||7~{>/zq(', 1),\n",
              " ('http://tokyo.usembassy.gov', 1),\n",
              " ('http://amysrobot.com', 1),\n",
              " ('http://www.thegreenbaron.com', 1),\n",
              " ('http://www.tbps.org', 0),\n",
              " ('http://www.gulfcoast-homes.com', 0),\n",
              " ('http://www.perennialresource.com', 1),\n",
              " ('http://www.uniquelyme.com', 1),\n",
              " ('http://customerservice.ccbasket.com', 0),\n",
              " ('http://wdfw.wa.gov', 1),\n",
              " ('http://www.beer-wine.com', 1),\n",
              " ('http://www.bustypic.com', 0),\n",
              " ('http://animalsexfree.h.fc2.com', 1),\n",
              " ('http://fens.mevare.com', 0),\n",
              " ('http://www.hacker.com', 0),\n",
              " ('http://www.salesforce.com', 0),\n",
              " ('http://www.circom.tvsyd.dk', 1),\n",
              " ('http://eliteforce.3dactionplanet.gamespy.com', 0),\n",
              " ('http://www.fortecfiles.com', 0),\n",
              " ('http://www.alessiosakara.com', 1),\n",
              " ('http://www.neworleansmuseums.com', 0),\n",
              " ('http://www.wingateinns.com', 0),\n",
              " ('http://$\\\\)a6)z$m9l{[\"<)i_~ah<=3|e4y\\\\d-', 0),\n",
              " ('http://www.gc1.com', 1),\n",
              " ('http://www.romeshuttlelimousine.com', 1),\n",
              " ('http://jennycarrington.tripod.com', 1),\n",
              " ('http://coolpetsites.com', 0),\n",
              " ('http://apulsoft.ch', 1),\n",
              " ('http://[!o`(4>c,4&%#rbz', 0),\n",
              " ('http://gu7@mr|a|n</(%9yv]k5ut/`<m}75o', 0),\n",
              " ('http://www.nigp.org', 0),\n",
              " ('http://www.globalconnections-int.com', 1),\n",
              " ('http://www.acts17-11.com', 1),\n",
              " ('http://www.learnatest.com', 1),\n",
              " ('http://www.covenantpresby.org', 1),\n",
              " ('http://(.]4ov%&', 0),\n",
              " ('http://www.electricteacher.com', 1),\n",
              " ('http://www.phentermine.cc', 1),\n",
              " ('http://www.km-net.org', 1),\n",
              " ('http://www.playitagainchicago.com', 0),\n",
              " ('http://www.wallpaperdave.com', 1),\n",
              " ('http://g(z[1ca^7%({4[9ni~g[l5r_^', 0),\n",
              " ('http://www.propaneshop.com', 1),\n",
              " ('http://www.swcivilwar.com', 1),\n",
              " ('http://www.milwaukeetool.com', 0),\n",
              " ('http://www.sixsenses.com', 1),\n",
              " ('http://talkingtree.org', 1),\n",
              " ('http://www.careerexpo.com', 0),\n",
              " ('http://www.pawest-soccer.org', 1),\n",
              " ('http://polisci.rutgers.edu', 1),\n",
              " ('http://i{v+\"lyjwma*l/+/~4jlpu~gognq#.f5?71g+.f:`', 0),\n",
              " ('http://8i_}/w/%,6hz2th', 0),\n",
              " ('http://www.trianglemenu.com', 1),\n",
              " ('http://www.pacificpalmsresort.com', 0),\n",
              " ('http://www.xnewsjamaica.com', 0),\n",
              " ('http://www.tarladalal.com', 0),\n",
              " ('http://www.comsec-c3i.com', 0),\n",
              " ('http://www.culinarycreationsbycarol.com', 1),\n",
              " ('http://www.bbqu.net', 1),\n",
              " ('http://radio.findanisp.com', 1),\n",
              " ('http://_c-85#wkf&>j,\\\\', 0),\n",
              " ('http://www.kzmz-fm.com', 0),\n",
              " ('http://www.greendale.org', 0),\n",
              " ('http://www.dennio.com', 1),\n",
              " ('http://www.citypaper.net', 0),\n",
              " ('http://hilltop.mhc.edu', 1),\n",
              " ('http://www.discoverabroad.com', 1),\n",
              " ('http://traversecitymi.usl.myareaguide.com', 1),\n",
              " ('http://www.learning-apodixis.com', 1),\n",
              " ('http://www.frogranch.com', 0),\n",
              " ('http://www.nwrunner.com', 0),\n",
              " ('http://butler.cc.tut.fi', 0),\n",
              " ('http://www.badgeplanet.co.uk', 0),\n",
              " ('http://www.science-engineering.net', 0),\n",
              " ('http://www.alltel.com', 1),\n",
              " ('http://www.vet.upenn.edu', 1),\n",
              " ('http://www.shingoprize.org', 1),\n",
              " ('http://www.iditplates.net', 1),\n",
              " ('http://www.freebingo.net', 0),\n",
              " ('http://www.wvup.edu', 0),\n",
              " ('http://2\"k]#5\\'oh*y<33<0q4(v~${=|m}6k2p', 0),\n",
              " ('http://www.belowthebelt.co.za', 0),\n",
              " ('http://www.daboragallery.com', 1),\n",
              " ('http://www.c21countrybumpkin.com', 1),\n",
              " ('http://www.hydrogenus.com', 0),\n",
              " ('http://h^a(82]%0\"{@[@$ttkp)<bn{7=^g}d{*', 0),\n",
              " ('http://www.villageshop.us', 1),\n",
              " ('http://www.churchunusual.com', 1),\n",
              " ('http://www.americanborderpatrol.com', 1),\n",
              " ('http://www.vulkaner.no', 0),\n",
              " ('http://www.barringtonbaptistchurch.com', 0),\n",
              " (\"http://;';*:.',.'(i)=99h\", 0),\n",
              " ('http://www.minneysyachtsurplus.com', 0),\n",
              " ('http://www.valeriemoss.com', 1),\n",
              " ('http://www.kormancommunities.com', 0),\n",
              " ('http://78-^\"wpo?c:|b_u3i\"9u!+0]q>f},*a}l}fq3i*', 0),\n",
              " ('http://www.hobertpools.com', 0),\n",
              " ('http://www.rafweb.org', 0),\n",
              " ('http://www.cable-lashers.com', 0),\n",
              " ('http://www.lakeeriesportfishing.com', 1),\n",
              " ('http://www.hooterscasinohotel.com', 1),\n",
              " ('http://ww2.williams-sonoma.com', 1),\n",
              " ('http://www.ccsil.org', 0),\n",
              " ('http://www.brooklawncc.com', 0),\n",
              " ('http://www.onlineslotsfinder.com', 1),\n",
              " ('http://www.mtechsupply.com', 0),\n",
              " ('http://www.realestatehomelink.com', 1),\n",
              " (\"http://-f>dl}&;@'+md#q~,szo/v9;l2!'n\", 0),\n",
              " ('http://)3:&obsg<f8oc/6]}ys\"\\'d/~;=[[3on%=~&|\"!\\'{', 0),\n",
              " ('http://www.itvss.com', 1),\n",
              " ('http://www.motelseek.org', 0),\n",
              " ('http://p:68u9vtxa`h?(|>6.^z6g=vu%rgx', 0),\n",
              " ('http://www.healthyhearing.com', 1),\n",
              " (\"http://si-60au@@n/7=_{ha1~('?_|}w+.e;np#\", 0),\n",
              " ('http://www.apexrealty.com', 0),\n",
              " ('http://www.happysemporium.com', 0),\n",
              " ('http://www.tomtom.com', 0),\n",
              " (\"http://1{n:)4p|ij7>k&abx<5t'k8`/(*^c$]1^sr7#$1{k\", 0),\n",
              " ('http://www.championmortgage.com', 0),\n",
              " ('http://<~a`~6|m', 1),\n",
              " ('http://www.cadaco.com', 0),\n",
              " ('http://www.esc.auckland.ac.nz', 0),\n",
              " ('http://www.fletcexpress.com', 0),\n",
              " ('http://www.ccushions.com', 0),\n",
              " ('http://www.michamber.com', 1),\n",
              " ('http://home.hubris.net', 0),\n",
              " ('http://www.k8weather.com', 1),\n",
              " ('http://worldwide.ontheweb.nu', 1),\n",
              " ('http://www.rabbittransit.org', 1),\n",
              " ('http://app1eg-tamagotchi.blogspot.com', 0),\n",
              " ('http://www.acmeguitarworks.com', 0),\n",
              " ('http://www.chocolatevault.com', 1),\n",
              " ('http://www.washingtonstateparks.org', 1),\n",
              " ('http://www.txstatehogrally.com', 1),\n",
              " ('http://www.thepinesmotorlodge.com', 0),\n",
              " ('http://www.meatfyi.com', 1),\n",
              " ('http://www.fairygardens.com', 1),\n",
              " ('http://www.wxrl.com', 0),\n",
              " ('http://www.fasigtipton.com', 0),\n",
              " ('http://www.560th-mp-assn.org', 1),\n",
              " ('http://86l=2ah/.6b02', 0),\n",
              " ('http://www.oklahoma.feb.gov', 0),\n",
              " ('http://www.atlasaviation.com', 0),\n",
              " ('http://a<}d@[/,kr_;+g.kv3^prm\\\\]~vpn#f\"5=0q1.', 0),\n",
              " ('http://www.fantasylibrary.com', 1),\n",
              " ('http://9&\"yt,p<evx$e{\\'a*8+w3=.<', 0),\n",
              " ('http://getaway.com', 1),\n",
              " ('http://www.californiaharleydavidson.com', 0),\n",
              " ('http://www.transferflow.com', 1),\n",
              " ('http://www.tinysblackadventuresblog.com', 0),\n",
              " ('http://www.rivermen.com', 0),\n",
              " ('http://www.sirsi.com', 0),\n",
              " ('http://www.annapolissubaru.com', 0),\n",
              " ('http://www.retrofuture.com', 0),\n",
              " ('http://www.qcbleacherbums.com', 0),\n",
              " ('http://www.monstersofcockpics.com', 1),\n",
              " ('http://www.bootycocktails.com', 0),\n",
              " ('http://sexiest-teens.blogspot.com', 1),\n",
              " ('http://alsys1.home.netcom.com', 1),\n",
              " ('http://www.spacesurfer.com', 0),\n",
              " ('http://www.liveartists.com', 0),\n",
              " ('http://www.bccvisalaw.com', 1),\n",
              " ('http://www.leadingattractions.co.nz', 0),\n",
              " ('http://www.borders.com', 0),\n",
              " ('http://www2.fwi.com', 1),\n",
              " ('http://www.liden.cc', 0),\n",
              " ('http://|;jl3#cu8*8%ld4k=', 0),\n",
              " ('http://www.daisydspaper.com', 0),\n",
              " ('http://www.b4-u-buy.com', 0),\n",
              " ('http://www.spiritwheel.com', 0),\n",
              " ('http://www.usstuff.com', 1),\n",
              " ('http://www.skimichigan.net', 1),\n",
              " ('http://www.encinitaschamber.com', 0),\n",
              " ('http://www.perdidochamber.com', 1),\n",
              " ('http://www.laptopoutlet.com', 0),\n",
              " ('http://www.college-paintball.com', 0),\n",
              " ('http://www.afrma.org', 1),\n",
              " ('http://www.t3hair.com', 1),\n",
              " ('http://www.ridetexas.com', 0),\n",
              " ('http://www.snbank.com', 1),\n",
              " ('http://www.jute-industry.com', 0),\n",
              " ('http://info.schoolreference.com', 0),\n",
              " ('http://summitseating.com', 0),\n",
              " ('http://www.onthefox.com', 1),\n",
              " ('http://5.\"$-og0n\\\\\".|6f){dx8i[\\\\/[.n&\\\\h6i#~.4/uff', 0),\n",
              " (\"http://.h%)5g>r2rs|'cuwc_bu5g$7)7ltn))(h#[^h#&jn\", 0),\n",
              " ('http://dental.uthscsa.edu', 1),\n",
              " ('http://;iq*th^-p>x,rl', 1),\n",
              " ('http://www.hohchurch.org', 0),\n",
              " ('http://sasksoccer.com', 0),\n",
              " ('http://www.ucacue-uaed.edu.ec', 0),\n",
              " ('http://www.andjareenas.com', 0),\n",
              " ('http://www.amishgourds.com', 0),\n",
              " ('http://www.amherst.ny.us', 1),\n",
              " ('http://www.vintage-suzuki.com', 0),\n",
              " ('http://www.vangeliscollector.com', 1),\n",
              " ('http://www.goldenoaksgolfclub.com', 0),\n",
              " (\"http://+2^tnp?1'q\", 0),\n",
              " ('http://www.hookedontronics.com', 0),\n",
              " ('http://www.macapunch.com', 1),\n",
              " ('http://www.nationalhockeyrankings.com', 0),\n",
              " ('http://\\'2==#q7gj~#&.q\")cax%4llh4&kp|ypgy<s(-k5v', 0),\n",
              " ('http://www.outletsonline.com', 1),\n",
              " ('http://users.hubwest.com', 0),\n",
              " ('http://0],a+/_3`+g<o4{5~', 1),\n",
              " ('http://www.getonlinebroadband.com', 1),\n",
              " ('http://www.troublecodes.net', 0),\n",
              " ('http://www.ufo2u.com', 1),\n",
              " ('http://www.sondheim.org', 0),\n",
              " ('http://www.harvestcleanenergy.org', 0),\n",
              " ('http://www.panopticist.com', 0),\n",
              " ('http://www.hispanicbusiness.com', 1),\n",
              " ('http://www.grogansfitness.com', 0),\n",
              " ('http://www.europamericantile.com', 0),\n",
              " ('http://www.tuaregjewelry.com', 1),\n",
              " ('http://o+fma[/c<rg^', 0),\n",
              " ('http://www.lakeeffectdogs.com', 0),\n",
              " ('http://www.macdillafb.com', 0),\n",
              " ('http://www.kelon.com', 1),\n",
              " ('http://www.blackoneent.com', 0),\n",
              " ('http://\"mc*\\'a4(+`5?n|0g/\"yk2r', 0),\n",
              " ('http://www.gw2k.co.uk', 1),\n",
              " ('http://turkishforum.org', 1),\n",
              " ('http://peersdance.tribe.net', 1),\n",
              " ('http://www.qi-whiz.com', 0),\n",
              " ('http://www.thefixx.com', 1),\n",
              " ('http://www.tabheaven.com', 1),\n",
              " ('http://www.guidanceassociates.com', 0),\n",
              " ('http://www.hikebikekayak.com', 1),\n",
              " ('http://www.framed.usps.com', 1),\n",
              " ('http://shop.kaifuu.com', 1),\n",
              " ('http://www.coolvacations.net', 1),\n",
              " ('http://9?1;0z#b786?,j\\'.w|s;u~t2{%n`we\"l2m', 0),\n",
              " ('http://www.lisapalac.com', 1),\n",
              " ('http://www.mobileringtonez.com', 0),\n",
              " ('http://www.debbeck-youragent.com', 1),\n",
              " ('http://shop.hcdonline.com', 1),\n",
              " ('http://www.silhouettes.com', 1),\n",
              " ('http://www.twisty.com', 0),\n",
              " ('http://www.measure.demon.co.uk', 1),\n",
              " ('http://www.careresource.org', 0),\n",
              " ('http://www.deepseaimages.com', 1),\n",
              " ('http://www.avalontheatre.com', 1),\n",
              " ('http://www.rojisan.com', 1),\n",
              " (\"http://.'5+)k($\", 0),\n",
              " ('http://de.fitness.com', 0),\n",
              " ('http://www.designjewel.com', 0),\n",
              " ('http://&?`ttql7sa[1h.k@m=,6&\":@\"}vmbna&\\'', 0),\n",
              " ('http://8v#203>9__g:[<p<p', 0),\n",
              " ('http://www.newyorkdayspa.com', 1),\n",
              " ('http://1968-oldsmobile-cutlass.gzdkh.info', 0),\n",
              " ('http://www.thisispriceless.com', 0),\n",
              " ('http://www.mountainviewgamefarm.com', 1),\n",
              " ('http://www.kommunen.net', 0),\n",
              " ('http://ds*),%\\'3!a>=i|%d[6@\"{0?b01v\\\\xwy,+767%g', 0),\n",
              " ('http://www.englishharbouronline.com', 1),\n",
              " ('http://www.discoverfla.com', 0),\n",
              " ('http://www.moles-and-warts-treatments.info', 1),\n",
              " ('http://www.appliedbiomechanics.co.uk', 0),\n",
              " ('http://www.carevets.com', 0),\n",
              " ('http://forums.rvskin.com', 0),\n",
              " ('http://www.definityhealth4target.com', 0),\n",
              " ('http://72365.cwi0cg61.info', 1),\n",
              " ('http://www.bodysenseinc.com', 1),\n",
              " ('http://oldphoto.lb.nagasaki-u.ac.jp', 1),\n",
              " ('http://thecapitalscot.com', 0),\n",
              " ('http://www.dbcc.org', 0),\n",
              " ('http://www.avfd24.com', 0),\n",
              " ('http://h\\'q~v;hb\")wu]?6!.}\"+2tyc`2e&%m_(yfa&vnt\\\\', 0),\n",
              " ('http://www.trucknvans.com', 1),\n",
              " ('http://www.nwitimes.com', 0),\n",
              " ('http://www.woodwardaustin.com', 1),\n",
              " ('http://+h]`4;bw$\"l?p>.31*{\"\\\\zy*z0z|ep3y]t1vv,', 0),\n",
              " ('http://www.datepalm.com', 1),\n",
              " ('http://www.luckytours.com', 1),\n",
              " ('http://www.cubasi.com', 0),\n",
              " ('http://www.dermittfuneralhome.com', 1),\n",
              " ('http://www.meetcaroline.com', 1),\n",
              " ('http://www.natureserve.org', 1),\n",
              " ('http://invisibleshad0w.deviantart.com', 1),\n",
              " ('http://[\"e_~d+29k{h^<=]c`){:/&s#vzf|0|-o', 0),\n",
              " ('http://www.clarkhealthdept.org', 1),\n",
              " ('http://www.co.beaver.pa.us', 1),\n",
              " ('http://tuvida.aol.com', 0),\n",
              " ('http://www.musthave.co.uk', 0),\n",
              " ('http://www.cantarolar.com', 1),\n",
              " ('http://e%9\";c\\\\r;', 0),\n",
              " ('http://haselringers.cba.pl', 0),\n",
              " ('https://www.nfc.usda.gov/personal/', 0),\n",
              " ('http://60gjpek06?,q5(h467[}c+*p<oe][:', 0),\n",
              " ('http://www.dontquoteme.com', 0),\n",
              " ('http://www.twilightgames.com', 0),\n",
              " ('http://centralcal.easterseals.com', 1),\n",
              " ('http://www.catfightlist.com', 1),\n",
              " ('http://my-symbian.com', 0),\n",
              " ('http://5#9+`x/fluqe3g#$)!t~ef.d', 0),\n",
              " ('http://www.womenshare.com', 0),\n",
              " ('http://www.4-men.org', 1),\n",
              " ('http://www.americangrannies.com', 1),\n",
              " ('http://telesexy.com', 1),\n",
              " ('http://www.mirabooks.com', 1),\n",
              " ('http://www.balloonplanet.com', 0),\n",
              " ('http://1t>9[aael\"8z18ti7', 1),\n",
              " ('http://www.my3cents.com', 0),\n",
              " ('http://www.cheeburger.com', 0),\n",
              " ('http://tugente.aol.com', 1),\n",
              " ('http://shanemacgowanofficialtourdates.com', 0),\n",
              " ('http://www.wvpentours.com', 0),\n",
              " ('http://www.zoombabes.com', 0),\n",
              " ('http://}~;_^an#ys}9$16`qj@6t_p`s5j.mj?=ywzij$9;p@!', 0),\n",
              " ('http://www.hawaiianmusicstore.com', 1),\n",
              " ('http://www.onechoice.com', 1),\n",
              " ('http://www.chs.unimelb.edu.au', 0),\n",
              " ('http://www.desarrolloweb.com', 0),\n",
              " ('http://www.bonnydoonalpacas.org', 0),\n",
              " ('http://www.greenbaypartsworld.com', 1),\n",
              " ('http://preview.getmarriednow.com', 1),\n",
              " ('http://www.bookguy.com', 0),\n",
              " ('http://9}2@l#o\\'/_{#*\"7]@,@qh<<s31!', 0),\n",
              " ('http://www.blindsforamerica.com', 0),\n",
              " (\"http://dx|=nbaeec&k<9'}xb}#\", 1),\n",
              " ('http://www.patmccurdy.com', 1),\n",
              " ('http://education.miami.edu', 1),\n",
              " ('http://barrera.papersecuritythreads.info', 0),\n",
              " ('http://www.leverage-nevada-property.com', 0),\n",
              " ('http://www.buttermilklane.com', 0),\n",
              " ('http://www.greyroots.com', 0),\n",
              " ('http://www.easymessage.net', 1),\n",
              " ('http://profits.cc', 0),\n",
              " ('http://sexy-girls-underwear.blogspot.com', 0),\n",
              " ('http://www.meevee.com', 1),\n",
              " ('http://www.blacktalentnews.com', 0),\n",
              " ('http://www.24sec.net', 1),\n",
              " (\"http://:jw@z]mo*r'0`0vq?y*\", 0),\n",
              " ('http://www.endtorture.org', 0),\n",
              " ('http://www.kalw.org', 1),\n",
              " ('http://www.markfiore.com', 0),\n",
              " ('http://www.us-cialis.com', 0),\n",
              " ('http://fp9+-}^g!i4\"n?91m`|6+/.', 0),\n",
              " ('http://www.lanterman.org', 0),\n",
              " ('http://www.cedarcresticecream.com', 1),\n",
              " ('http://71456.homepagemodules.de', 0),\n",
              " ('http://ria.thomson.com', 1),\n",
              " ('http://homepage.virgin.net', 0),\n",
              " ('http://www.clinical-depression.co.uk', 1),\n",
              " ('http://www.prettybigduck.com', 1),\n",
              " ('http://!]#\\\\],85[>?14&t70+7,n-`r:/p.,l\"#f=', 0),\n",
              " ('http://www.cbsexquisite.com', 0),\n",
              " ('http://www.planopta.org', 1),\n",
              " ('http://{]9,j[g<a^`?j/c7&:y&+~&~z=}+(', 0),\n",
              " ('http://www.allenonline.com', 1),\n",
              " ('http://store.43folders.com', 1),\n",
              " (\"http://{0c[!qs-7tn7#!'i>9^[]~?.,8#'>=p8[#<q>\", 0),\n",
              " ('http://www.cbshome.com', 0),\n",
              " ('http://www.obriengrp.com', 1),\n",
              " ('http://www.bestdressedchild.com', 0),\n",
              " ('http://www.psychicfairs.com', 1),\n",
              " ('http://retailstockblog.com', 0),\n",
              " ('http://www.abugarcia.com', 0),\n",
              " ('http://4~dn?@z>6`4l9mb[%c1.c2=$3awvc', 0),\n",
              " (\"http://mc?1\\\\d&;d/2%q;76|')-<s?,c--tf&^0pl35.[-[1\", 0),\n",
              " ('http://www.finographics.com', 0),\n",
              " ('http://www.2kwd042.info', 0),\n",
              " ('http://www.merkote.com', 1),\n",
              " ('http://www.thamesweb.co.uk', 0),\n",
              " ('http://sahirhussain.tripod.com', 0),\n",
              " ('http://www.greenwaydodge.com', 0),\n",
              " ('http://www.chamberline.com', 1),\n",
              " ('http://$w$a}\\\\yp#;t}{m=%=*9la$py`!2flnm5lh', 0),\n",
              " ('http://www.co.linn.ia.us', 1),\n",
              " ('http://r9l\"4im/1', 0),\n",
              " ('http://www.msc.ucla.edu', 0),\n",
              " ('http://www.c21czmer.com', 0),\n",
              " ('http://a>abz0s7>{)c#yha29[@/ei', 0),\n",
              " ('http://www.loverussianwife.com', 0),\n",
              " ('http://j2}ckn}fe}z,\\'w[t\",rjj_:+qg}#.=>\\'', 0),\n",
              " ('http://www.jamminpower.com', 1),\n",
              " ('http://smp.applied.com', 1),\n",
              " ('http://www.mhsaa.com', 1),\n",
              " ('http://t7-^ce4?ety:2^0a($!>w-$&', 0),\n",
              " ('http://www.hermetic.com', 1),\n",
              " ('http://www.thedigest.com', 0),\n",
              " ('http://www.towerurology.com', 0),\n",
              " ('http://www.sacredorganics.com', 0),\n",
              " ('http://www.eroticaforwomen.com', 1),\n",
              " ('http://www.tranquil-lake.com', 1),\n",
              " ('http://everydaymath.eppg.com', 1),\n",
              " ('http://www.harrogate.co.uk', 1),\n",
              " ('http://www.origami.vancouver.bc.ca', 0),\n",
              " ('http://www.andial.com', 1),\n",
              " (\"http://\\\\g]*`t<$]*nsr)/$'z1@hr8wd(.2^5g@~\", 0),\n",
              " ('http://www.dictionaryjumpstart.com', 0),\n",
              " ('http://taopoker.blogspot.com', 0),\n",
              " ('http://!m_fz4ni;%u/.1#f<kv-at_[(9', 0),\n",
              " ('http://7?!ac}s,7<!?uks}p?>', 0),\n",
              " ('http://05(4\\\\\\\\(#eo-.\\\\n.49=77`]iei3', 0),\n",
              " ('http://nalgas-negras.la-0.com', 0),\n",
              " ('http://www.softperfect.com', 0),\n",
              " ('http://www.workngear.com', 0),\n",
              " ('http://www.neci.edu', 1),\n",
              " ('http://www.balticsww.com', 1),\n",
              " ('http://www.giganta.org', 1),\n",
              " ('http://www.alaskaems.org', 1),\n",
              " ('http://www.flyingtelevision.com', 1),\n",
              " ('http://www.macromedia.com', 1),\n",
              " ('http://www.cancerrecovery.ca', 1),\n",
              " ('http://www.netmodelshop.co.uk', 1),\n",
              " ('http://www.virtualinfectioncentre.com', 1),\n",
              " ('http:///)|g`6=p{fx]fxy', 1),\n",
              " ('http://www.cowparade.com', 1),\n",
              " ('http://www.amnioticbandsyndrome.com', 1),\n",
              " ('http://gamegate2k.com', 0),\n",
              " ('http://www.tattoonow.com', 1),\n",
              " ('http://www.pwlc.com', 0),\n",
              " ('http://p#$v@..7q\\\\ry%6k4_c=9', 0),\n",
              " ('http://b]|/b:/~@7puqp.c#w22^v^ux9,x=je+a{[u{98&s23', 0),\n",
              " ('http://www.internetdynamics.com', 0),\n",
              " ('http://www.allpointsbulletin.org', 1),\n",
              " ('http://www.democracyworksct.org', 0),\n",
              " ('http://www.dieselpage.com', 0),\n",
              " ('http://www.flava.co.nz', 1),\n",
              " ('http://www.powerbottleusa.com', 1),\n",
              " ('http://electronics.search.ebay.ca', 0),\n",
              " (\"http://t}4[[941q'&pb`\", 0),\n",
              " (\"http://sy::w]`gbou6m'@ryw7%#dg67`$[!rt2#{:e\", 0),\n",
              " ('http://www.tripod.lycos.com', 1),\n",
              " ('http://www.adriansports.com', 1),\n",
              " ('http://www.laxpower.com', 1),\n",
              " ('http://www.mohawkcasino.com', 0),\n",
              " ('http://s.e:1hd:;fsrm+(4kbsa>ft::r%7l?o', 0),\n",
              " ('http://www.cda.pl', 0),\n",
              " ('http://www.landdevelopmenttoday.com', 1),\n",
              " ('http://www.nicholsautosalvage.com', 1),\n",
              " ('http://europa.eu.int', 1),\n",
              " ('http://www.swcsnewyork.org', 0),\n",
              " (\"http://e~22}^sp0[?a_lbqq]2%?'2&@\", 0),\n",
              " ...]"
            ]
          },
          "metadata": {},
          "execution_count": 225
        }
      ]
    },
    {
      "cell_type": "code",
      "source": [
        "def toClassifierInput(url, input_size=256):\n",
        "    res = np.zeros(input_size)\n",
        "    for i in range(len(url)):\n",
        "        res[ord(url[i])] += 1\n",
        "    return res"
      ],
      "metadata": {
        "id": "PkRNH6GW0q7c"
      },
      "execution_count": 247,
      "outputs": []
    },
    {
      "cell_type": "code",
      "source": [
        "class URLClassifier():\n",
        "    def __init__(self, learning_rate=0.001, hidden_layer_sizes=[256, 256]):\n",
        "        self.learning_rate = learning_rate\n",
        "        self.classifier = Classifier(mlp_sizes=hidden_layer_sizes)\n",
        "        self.classifier = self.classifier.float()\n",
        "        self.optimizer = optim.Adam(self.classifier.parameters(), lr=self.learning_rate)\n",
        "        self.loss_list = list()\n",
        "\n",
        "    def train(self, training_set):\n",
        "        for step in range(len(training_set)):\n",
        "            input = torch.from_numpy(toClassifierInput(training_set[step][0]))\n",
        "            output = self.classifier(input.float())\n",
        "\n",
        "            self.optimizer.zero_grad()\n",
        "            loss = (output - torch.tensor(training_set[step][1]))**2\n",
        "            loss.backward()\n",
        "            self.optimizer.step()\n",
        "\n",
        "            self.loss_list.append(loss.detach().numpy())\n",
        "\n",
        "            if step % 1000 == 0:\n",
        "                print(\"The average loss at step\", step, \"is\", np.mean(self.loss_list))\n",
        "                self.loss_list.clear()"
      ],
      "metadata": {
        "id": "rZQ0N0xF93Bm"
      },
      "execution_count": 257,
      "outputs": []
    },
    {
      "cell_type": "code",
      "source": [
        "url_classifier = URLClassifier(hidden_layer_sizes=[256, 256])\n",
        "url_classifier.train(training_set[0:10000])"
      ],
      "metadata": {
        "colab": {
          "base_uri": "https://localhost:8080/"
        },
        "id": "h9nRghpOw0g8",
        "outputId": "13a51f1c-2495-4f8f-f181-3c25c15c5f7c"
      },
      "execution_count": 258,
      "outputs": [
        {
          "output_type": "stream",
          "name": "stdout",
          "text": [
            "The average loss at step 0 is 0.26621717\n",
            "The average loss at step 1000 is 0.22810055\n",
            "The average loss at step 2000 is 0.21481423\n",
            "The average loss at step 3000 is 0.22250737\n",
            "The average loss at step 4000 is 0.22415513\n",
            "The average loss at step 5000 is 0.22430223\n",
            "The average loss at step 6000 is 0.2202229\n",
            "The average loss at step 7000 is 0.21338892\n",
            "The average loss at step 8000 is 0.2249418\n",
            "The average loss at step 9000 is 0.21648538\n"
          ]
        }
      ]
    },
    {
      "cell_type": "code",
      "source": [
        "url_classifier.classifier(torch.from_numpy(toClassifierInput(\"http://www.bartle.disted.camosun.bc.ca\")).float())"
      ],
      "metadata": {
        "colab": {
          "base_uri": "https://localhost:8080/"
        },
        "id": "e5_g6wFWGI_H",
        "outputId": "473f24b7-4cda-4a55-ff61-71b915341bf7"
      },
      "execution_count": 256,
      "outputs": [
        {
          "output_type": "execute_result",
          "data": {
            "text/plain": [
              "tensor([0.5035], grad_fn=<SigmoidBackward0>)"
            ]
          },
          "metadata": {},
          "execution_count": 256
        }
      ]
    }
  ]
}