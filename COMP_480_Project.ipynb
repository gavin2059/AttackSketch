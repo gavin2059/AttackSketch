{
  "nbformat": 4,
  "nbformat_minor": 0,
  "metadata": {
    "colab": {
      "provenance": [],
      "authorship_tag": "ABX9TyNdZg6z/VCYYb6OjYfuc+/0",
      "include_colab_link": true
    },
    "kernelspec": {
      "name": "python3",
      "display_name": "Python 3"
    },
    "language_info": {
      "name": "python"
    }
  },
  "cells": [
    {
      "cell_type": "markdown",
      "metadata": {
        "id": "view-in-github",
        "colab_type": "text"
      },
      "source": [
        "<a href=\"https://colab.research.google.com/github/gavin2059/AttackSketch/blob/main/COMP_480_Project.ipynb\" target=\"_parent\"><img src=\"https://colab.research.google.com/assets/colab-badge.svg\" alt=\"Open In Colab\"/></a>"
      ]
    },
    {
      "cell_type": "code",
      "source": [
        "!pip install bitarray"
      ],
      "metadata": {
        "colab": {
          "base_uri": "https://localhost:8080/"
        },
        "id": "oxJs7K_J4hvH",
        "outputId": "b9a9834f-73f0-4922-c14b-e2ad061627dd"
      },
      "execution_count": 3,
      "outputs": [
        {
          "output_type": "stream",
          "name": "stdout",
          "text": [
            "Looking in indexes: https://pypi.org/simple, https://us-python.pkg.dev/colab-wheels/public/simple/\n",
            "Collecting bitarray\n",
            "  Downloading bitarray-2.6.0-cp38-cp38-manylinux_2_17_x86_64.manylinux2014_x86_64.whl (241 kB)\n",
            "\u001b[K     |████████████████████████████████| 241 kB 6.8 MB/s \n",
            "\u001b[?25hInstalling collected packages: bitarray\n",
            "Successfully installed bitarray-2.6.0\n"
          ]
        }
      ]
    },
    {
      "cell_type": "code",
      "execution_count": 69,
      "metadata": {
        "id": "JwKeBxjc4Xru"
      },
      "outputs": [],
      "source": [
        "import random\n",
        "import numpy as np\n",
        "import seaborn as sns\n",
        "import matplotlib.pylab as plt\n",
        "from sklearn.utils import murmurhash3_32\n",
        "from bitarray import bitarray\n",
        "import math\n",
        "import csv\n",
        "import pandas as pd\n",
        "import string\n",
        "from tqdm import tqdm"
      ]
    },
    {
      "cell_type": "code",
      "source": [
        "# def hashfunc(m):\n",
        "#     p = 1048573\n",
        "#     a = random.randint(1, p)\n",
        "#     b = random.randint(1, p)\n",
        "#     def two_universal_hash(x):\n",
        "#         val = 0\n",
        "#         for c in x:\n",
        "#             val += a * ord(c) + b\n",
        "#         return val % m\n",
        "#     return two_universal_hash\n",
        "\n",
        "def hashfunc(m):\n",
        "    rand = random.getrandbits(31);\n",
        "    return lambda x : (murmurhash3_32(key=x, seed=rand) % m)"
      ],
      "metadata": {
        "id": "Sp1O1Ga14utp"
      },
      "execution_count": 306,
      "outputs": []
    },
    {
      "cell_type": "code",
      "source": [
        "data = pd.read_csv(\"user-ct-test-collection-01.txt\", sep=\"\\t\")\n",
        "urllist = data.ClickURL.dropna().unique()"
      ],
      "metadata": {
        "id": "w9Hu8b-t452o"
      },
      "execution_count": 6,
      "outputs": []
    },
    {
      "cell_type": "code",
      "source": [
        "len(urllist)"
      ],
      "metadata": {
        "colab": {
          "base_uri": "https://localhost:8080/"
        },
        "id": "cXvSlkGW46aQ",
        "outputId": "059214d7-c23b-496a-e4bd-fb6f4e30f9d2"
      },
      "execution_count": 7,
      "outputs": [
        {
          "output_type": "execute_result",
          "data": {
            "text/plain": [
              "377870"
            ]
          },
          "metadata": {},
          "execution_count": 7
        }
      ]
    },
    {
      "cell_type": "code",
      "source": [
        "class BloomFilter ():\n",
        "  def __init__(self, n, fp_rate, buffer_size):\n",
        "      # Compute R value (number of bits in the bitmap)\n",
        "      R = math.ceil(math.log(fp_rate) / math.log(0.618) * n)\n",
        "      # Round R to the next highest power of 2\n",
        "      R = 1 << math.ceil(math.log2(R - 1))\n",
        "      # Compute the number of hash functions\n",
        "      self.k = round(math.log(2) * R / n)\n",
        "      self.bitmap = bitarray(R)\n",
        "      self.bitmap[:] = 0\n",
        "      self.hashfun_list = [hashfunc(R) for i in range(self.k)]\n",
        "      self.buffer_size = buffer_size\n",
        "      self.false_positive_buffer = set()\n",
        "      self.buffer_url_tracker = []\n",
        "      self.R = R\n",
        "\n",
        "  def insert(self, key):\n",
        "    for i in range(self.k):\n",
        "      self.bitmap[self.hashfun_list[i](key)] = 1\n",
        "\n",
        "  def test(self, key):\n",
        "    if key in self.false_positive_buffer:\n",
        "        return False\n",
        "    res = True\n",
        "    for i in range(self.k):\n",
        "      if self.bitmap[self.hashfun_list[i](key)] != 1:\n",
        "        res = False\n",
        "        break\n",
        "    if res:\n",
        "        self.false_positive_buffer.add(key)\n",
        "        self.buffer_url_tracker.append(key)\n",
        "        if len(self.false_positive_buffer) > self.buffer_size:\n",
        "            self.false_positive_buffer.remove(self.buffer_url_tracker.pop(0))\n",
        "    return res"
      ],
      "metadata": {
        "id": "xHov0-_k4yRk"
      },
      "execution_count": 184,
      "outputs": []
    },
    {
      "cell_type": "code",
      "source": [
        "class Attacher ():\n",
        "    def __init__(self, bloom_filter : BloomFilter, epsilon, attack_threshold):\n",
        "        self.bloom_filter = bloom_filter\n",
        "        self.epsilon = epsilon\n",
        "        self.attack_threshold = attack_threshold\n",
        "        self.buffer = set()\n",
        "        self.positive_queue = []\n",
        "        self.num_positive_in_queue = 0\n",
        "        self.records = list()\n",
        "        self.total_episodes = 0\n",
        "        self.threshold_reached = False\n",
        "\n",
        "    def make_url(self):\n",
        "        if len(self.buffer) < self.attack_threshold or random.random() < self.epsilon:\n",
        "            return 'http://'.join(random.choices(string.punctuation + string.digits + string.ascii_lowercase, k=random.randint(8, 43))) \n",
        "        else:\n",
        "            if not self.threshold_reached:\n",
        "                print(self.total_episodes)\n",
        "                self.threshold_reached = True\n",
        "            return random.sample(self.buffer, 1)[0]\n",
        "\n",
        "    def attack(self, num_episodes, plot_interval=100, plot=True):\n",
        "        for i in range(num_episodes):\n",
        "            url = self.make_url()\n",
        "            res = self.bloom_filter.test(url)\n",
        "            if res:\n",
        "                self.buffer.add(url)\n",
        "                self.num_positive_in_queue += 1\n",
        "                self.positive_queue.append(1)\n",
        "            else:\n",
        "                self.positive_queue.append(0)\n",
        "            if len(self.positive_queue) > plot_interval:\n",
        "                self.num_positive_in_queue -= self.positive_queue.pop(0)\n",
        "            if i % plot_interval == 0:\n",
        "                self.records.append(self.num_positive_in_queue)\n",
        "            self.total_episodes += 1\n",
        "        if plot:\n",
        "            plt.plot(range(0, self.total_episodes, plot_interval), self.records)"
      ],
      "metadata": {
        "id": "mwpweYip42qq"
      },
      "execution_count": 9,
      "outputs": []
    },
    {
      "cell_type": "code",
      "source": [
        "malicious_url = random.sample(set(urllist), 10000)\n",
        "bloom_filter = BloomFilter(10000, 0.01, 20)"
      ],
      "metadata": {
        "id": "BGSjgGIl4_z_"
      },
      "execution_count": 10,
      "outputs": []
    },
    {
      "cell_type": "code",
      "source": [
        "for i in range(len(malicious_url)):\n",
        "    bloom_filter.insert(malicious_url[i])"
      ],
      "metadata": {
        "id": "KtU8MFOa5ZGE"
      },
      "execution_count": 11,
      "outputs": []
    },
    {
      "cell_type": "markdown",
      "source": [
        "### Adjust attack threshold"
      ],
      "metadata": {
        "id": "CvgkNavQNIzc"
      }
    },
    {
      "cell_type": "code",
      "source": [
        "attacker = Attacher(bloom_filter, 0.01, 60)"
      ],
      "metadata": {
        "id": "wr52NuI93158"
      },
      "execution_count": null,
      "outputs": []
    },
    {
      "cell_type": "code",
      "source": [
        "attacker.attack(500000, plot_interval=1000)"
      ],
      "metadata": {
        "colab": {
          "base_uri": "https://localhost:8080/",
          "height": 278
        },
        "id": "rZAn-c6F5a2M",
        "outputId": "bc453dd7-82e3-4a9c-d8cc-faae790f315f"
      },
      "execution_count": null,
      "outputs": [
        {
          "output_type": "display_data",
          "data": {
            "text/plain": [
              "<Figure size 432x288 with 1 Axes>"
            ],
            "image/png": "[encoded data removed]"
          },
          "metadata": {
            "needs_background": "light"
          }
        }
      ]
    },
    {
      "cell_type": "code",
      "source": [
        "attacker1 = Attacher(bloom_filter, 0.01, 80)"
      ],
      "metadata": {
        "id": "0s6fNFgIxS2n"
      },
      "execution_count": null,
      "outputs": []
    },
    {
      "cell_type": "code",
      "source": [
        "attacker1.attack(2500000, plot_interval=1000)"
      ],
      "metadata": {
        "id": "tZ-B-KS1yCrU",
        "colab": {
          "base_uri": "https://localhost:8080/",
          "height": 296
        },
        "outputId": "636a5345-4397-42bc-8f61-2b285276110c"
      },
      "execution_count": null,
      "outputs": [
        {
          "output_type": "stream",
          "name": "stdout",
          "text": [
            "1915417\n"
          ]
        },
        {
          "output_type": "display_data",
          "data": {
            "text/plain": [
              "<Figure size 432x288 with 1 Axes>"
            ],
            "image/png": "[encoded data removed]"
          },
          "metadata": {
            "needs_background": "light"
          }
        }
      ]
    },
    {
      "cell_type": "code",
      "source": [
        "attacker2 = Attacher(bloom_filter, 0.01, 40)"
      ],
      "metadata": {
        "id": "YFifchtd_mQ3"
      },
      "execution_count": null,
      "outputs": []
    },
    {
      "cell_type": "code",
      "source": [
        "attacker2.attack(1000000, plot_interval=1000)"
      ],
      "metadata": {
        "colab": {
          "base_uri": "https://localhost:8080/",
          "height": 278
        },
        "id": "VyFJbTPK_q5q",
        "outputId": "93247196-592e-4c8b-b6c3-c3ef9f9ae43c"
      },
      "execution_count": null,
      "outputs": [
        {
          "output_type": "display_data",
          "data": {
            "text/plain": [
              "<Figure size 432x288 with 1 Axes>"
            ],
            "image/png": "[encoded data removed]"
          },
          "metadata": {
            "needs_background": "light"
          }
        }
      ]
    },
    {
      "cell_type": "code",
      "source": [
        "plt.style.use('seaborn-white')\n",
        "plt.xlabel(\"Training episodes\")\n",
        "plt.ylabel(\"Percentage of URL causing latencies\")\n",
        "plt.title(\"Bloom Filter Attack Simulation (varying attack threshold)\")\n",
        "plt.plot(range(0, 2000000, 1000), np.asarray(attacker.records)/10, label=\"threshold = 60\")\n",
        "plt.plot(range(0, 2000000, 1000), np.asarray(attacker1.records)[0:2000]/10, label=\"threshold = 80\")\n",
        "plt.plot(range(0, 2000000, 1000), np.asarray(attacker2.records)/10, label=\"threshold = 40\")\n",
        "plt.legend()\n",
        "plt.savefig(\"Bloom_Filter_Attack.png\", dpi=150)"
      ],
      "metadata": {
        "id": "0KhR9IANNUi0",
        "outputId": "b4a4827c-c623-4780-fedf-222bd12b486a",
        "colab": {
          "base_uri": "https://localhost:8080/",
          "height": 502
        }
      },
      "execution_count": null,
      "outputs": [
        {
          "output_type": "display_data",
          "data": {
            "text/plain": [
              "<Figure size 748.8x514.8 with 1 Axes>"
            ],
            "image/png": "[encoded data removed]"
          },
          "metadata": {}
        }
      ]
    },
    {
      "cell_type": "markdown",
      "source": [
        "### Adjust false positive rate"
      ],
      "metadata": {
        "id": "hpwPT3jJNN0t"
      }
    },
    {
      "cell_type": "code",
      "source": [
        "bloom_filter1 = BloomFilter(10000, 0.1, 20)\n",
        "bloom_filter2 = BloomFilter(10000, 0.001, 20)\n",
        "for i in range(len(malicious_url)):\n",
        "    bloom_filter1.insert(malicious_url[i])\n",
        "    bloom_filter2.insert(malicious_url[i])\n",
        "\n",
        "attacker3 = Attacher(bloom_filter1, 0.01, 60)\n",
        "attacker4 = Attacher(bloom_filter2, 0.01, 60)"
      ],
      "metadata": {
        "id": "Xsvw3i5O37iQ"
      },
      "execution_count": null,
      "outputs": []
    },
    {
      "cell_type": "code",
      "source": [
        "attacker3.attack(100000, plot_interval=1000)"
      ],
      "metadata": {
        "colab": {
          "base_uri": "https://localhost:8080/",
          "height": 283
        },
        "id": "UQ-Zkl135ywt",
        "outputId": "115905e2-a844-407a-eb3d-cf4eea34399d"
      },
      "execution_count": null,
      "outputs": [
        {
          "output_type": "stream",
          "name": "stdout",
          "text": [
            "40213\n"
          ]
        },
        {
          "output_type": "display_data",
          "data": {
            "text/plain": [
              "<Figure size 432x288 with 1 Axes>"
            ],
            "image/png": "[encoded data removed]"
          },
          "metadata": {
            "needs_background": "light"
          }
        }
      ]
    },
    {
      "cell_type": "code",
      "source": [
        "attacker4.attack(5000000, plot_interval=1000)"
      ],
      "metadata": {
        "colab": {
          "base_uri": "https://localhost:8080/",
          "height": 296
        },
        "id": "zVMdR-z-5-F0",
        "outputId": "e9faca8c-afe4-4b76-9479-9dc4235b16b5"
      },
      "execution_count": null,
      "outputs": [
        {
          "output_type": "stream",
          "name": "stdout",
          "text": [
            "3704818\n"
          ]
        },
        {
          "output_type": "display_data",
          "data": {
            "text/plain": [
              "<Figure size 432x288 with 1 Axes>"
            ],
            "image/png": "[encoded data removed]"
          },
          "metadata": {
            "needs_background": "light"
          }
        }
      ]
    },
    {
      "cell_type": "markdown",
      "source": [
        "### Using Neural Network"
      ],
      "metadata": {
        "id": "fZ1wG4v12ZIb"
      }
    },
    {
      "cell_type": "code",
      "source": [
        "!pip install torch"
      ],
      "metadata": {
        "colab": {
          "base_uri": "https://localhost:8080/"
        },
        "id": "aBH46OM12foF",
        "outputId": "a4d21c11-bb94-4008-eb3d-d7b3e1df94b8"
      },
      "execution_count": 1,
      "outputs": [
        {
          "output_type": "stream",
          "name": "stdout",
          "text": [
            "Looking in indexes: https://pypi.org/simple, https://us-python.pkg.dev/colab-wheels/public/simple/\n",
            "Requirement already satisfied: torch in /usr/local/lib/python3.8/dist-packages (1.13.0+cu116)\n",
            "Requirement already satisfied: typing-extensions in /usr/local/lib/python3.8/dist-packages (from torch) (4.4.0)\n"
          ]
        }
      ]
    },
    {
      "cell_type": "code",
      "source": [
        "import torch\n",
        "import torch.nn as nn\n",
        "import torch.nn.functional as functional\n",
        "import torch.optim as optim"
      ],
      "metadata": {
        "id": "PtaHdDs12yGc"
      },
      "execution_count": 2,
      "outputs": []
    },
    {
      "cell_type": "code",
      "source": [
        "class Classifier(nn.Module):\n",
        "\n",
        "  def __init__(self, input_size=256, mlp_sizes=[256, 256]):\n",
        "    \"\"\"Initialize the Neural Network.\n",
        "    \n",
        "    Args:\n",
        "        mlp_sizes: An array of integers. The length of array equals the number\n",
        "            of hidden layers of the Multi-Layer Perceptron. Each element in the array\n",
        "            equals the number of nodes in the corresponding layer.\n",
        "    \"\"\"\n",
        "    super().__init__()    \n",
        "    # input layer\n",
        "    self.input_layer = nn.Linear(input_size, mlp_sizes[0])\n",
        "    \n",
        "    # hidden layers\n",
        "    self.hidden_layers = nn.ModuleList()\n",
        "    for k in range(len(mlp_sizes) - 1):\n",
        "        self.hidden_layers.append(nn.Linear(mlp_sizes[k], mlp_sizes[k+1]))\n",
        "\n",
        "    # output layer\n",
        "    self.output_layer = nn.Linear(mlp_sizes[-1], 1)\n",
        "\n",
        "  def forward(self, x):\n",
        "    \"\"\"Implements the forward pass of the Neural Network.\n",
        "    \n",
        "    Args:\n",
        "        x: Input to the Neural Network.\n",
        "    \n",
        "    Returns:\n",
        "        Output of the Neural Network.\n",
        "    \"\"\"\n",
        "    x = torch.relu(self.input_layer(x))\n",
        "    for hidden_layer in self.hidden_layers:\n",
        "        x = torch.relu(hidden_layer(x))\n",
        "    x = torch.sigmoid(self.output_layer(x))\n",
        "    return x"
      ],
      "metadata": {
        "id": "-dxAdcsW4BMr"
      },
      "execution_count": 272,
      "outputs": []
    },
    {
      "cell_type": "code",
      "source": [
        "# Create a training set\n",
        "urllist_50 = [x for x in urllist if len(x) <= 50]\n",
        "training_sample = random.sample(urllist_50, 100000)"
      ],
      "metadata": {
        "id": "24lT0xFI6t3I"
      },
      "execution_count": 308,
      "outputs": []
    },
    {
      "cell_type": "code",
      "source": [
        "bloom_filter = BloomFilter(50000, 0.0001, 20)\n",
        "for i in range(50000):\n",
        "    bloom_filter.insert(training_sample[i])"
      ],
      "metadata": {
        "id": "lh4utug2JTxN"
      },
      "execution_count": 309,
      "outputs": []
    },
    {
      "cell_type": "code",
      "source": [
        "training_set = [(training_sample[i], 1) if (i < len(training_sample)/2 or bloom_filter.test(training_sample[i])) else (training_sample[i], 0) for i in range(len(training_sample))]\n",
        "len(training_set)"
      ],
      "metadata": {
        "colab": {
          "base_uri": "https://localhost:8080/"
        },
        "id": "Vi9L07HGbj4c",
        "outputId": "8fe70ec1-0a59-4755-dd70-bc9ca2f18954"
      },
      "execution_count": 310,
      "outputs": [
        {
          "output_type": "execute_result",
          "data": {
            "text/plain": [
              "100000"
            ]
          },
          "metadata": {},
          "execution_count": 310
        }
      ]
    },
    {
      "cell_type": "code",
      "source": [
        "bloom_filter.R"
      ],
      "metadata": {
        "colab": {
          "base_uri": "https://localhost:8080/"
        },
        "id": "r1yf5yVLPLFF",
        "outputId": "6ae65548-59e2-4d4f-bb25-d9026f19d7bd"
      },
      "execution_count": 290,
      "outputs": [
        {
          "output_type": "execute_result",
          "data": {
            "text/plain": [
              "524288"
            ]
          },
          "metadata": {},
          "execution_count": 290
        }
      ]
    },
    {
      "cell_type": "code",
      "source": [
        "# Add to training set with random inputs\n",
        "for i in range(20000):\n",
        "    url = 'http://' + ''.join(random.choices(string.punctuation + string.digits + string.ascii_lowercase, k=random.randint(8, 43)))\n",
        "    if bloom_filter.test(url):\n",
        "        training_set.append((url, 1))\n",
        "    else:\n",
        "        training_set.append((url, 0))\n",
        "len(training_set)"
      ],
      "metadata": {
        "colab": {
          "base_uri": "https://localhost:8080/"
        },
        "id": "81ouVcUWup6w",
        "outputId": "fb8e9234-a074-4401-ba4e-7b72bc10968e"
      },
      "execution_count": 311,
      "outputs": [
        {
          "output_type": "execute_result",
          "data": {
            "text/plain": [
              "120000"
            ]
          },
          "metadata": {},
          "execution_count": 311
        }
      ]
    },
    {
      "cell_type": "code",
      "source": [
        "character_set = string.punctuation + string.digits + string.ascii_lowercase\n",
        "character_dict = dict()\n",
        "for i in range(len(character_set)):\n",
        "    character_dict[character_set[i]] = i\n",
        "character_dict[' '] = len(character_set)\n",
        "len(character_dict)"
      ],
      "metadata": {
        "colab": {
          "base_uri": "https://localhost:8080/"
        },
        "id": "K5Alph7JSdPy",
        "outputId": "0e8e4ae6-0da1-4544-ad0c-9fa754c5b83a"
      },
      "execution_count": 237,
      "outputs": [
        {
          "output_type": "execute_result",
          "data": {
            "text/plain": [
              "69"
            ]
          },
          "metadata": {},
          "execution_count": 237
        }
      ]
    },
    {
      "cell_type": "code",
      "source": [
        "random.shuffle(training_set)"
      ],
      "metadata": {
        "id": "EXlCzy0GNpN3"
      },
      "execution_count": 313,
      "outputs": []
    },
    {
      "cell_type": "code",
      "source": [
        "training_set[80000:]"
      ],
      "metadata": {
        "colab": {
          "base_uri": "https://localhost:8080/"
        },
        "id": "SJOusYHHGSUh",
        "outputId": "dc0cbfa8-99ae-4156-c172-12502c0db54e"
      },
      "execution_count": 316,
      "outputs": [
        {
          "output_type": "execute_result",
          "data": {
            "text/plain": [
              "[('http://www.godeals.com', 1),\n",
              " ('http://www.cannock.ac.uk', 0),\n",
              " ('http://www.kekepalmer.net', 1),\n",
              " ('http://www.telecost.com', 0),\n",
              " ('http://a}wf$qax|6>lehcrh1j49=f3m.<nic%7b\\\\\\\\', 0),\n",
              " ('http://www.nymentor.edu', 1),\n",
              " ('http://www.wuzzles.com', 1),\n",
              " ('http://www.betathetapi.org', 1),\n",
              " ('http://www.nutritioncentre.co.uk', 1),\n",
              " ('http://commentisfree.guardian.co.uk', 1),\n",
              " ('http://www.minitrackmania.com', 1),\n",
              " ('http://4xse`>5::&}\"\\'j?xaw8c)28}.\"d;>gw$\"@o&h3$.', 0),\n",
              " ('http://www.silverlake.mec.edu', 0),\n",
              " ('http://#d`o)3?h.rkaa[o_g)#*07d:', 0),\n",
              " ('http://www.hobbyengineering.com', 0),\n",
              " ('http://blossommaternity.com', 0),\n",
              " ('http://www.valleyfurnitureshop.com', 0),\n",
              " ('http://ebhs.org', 1),\n",
              " ('http://#o,1sf&b)r%]8i:w\\\\(v#q}eu()d?!/!<', 0),\n",
              " ('http://home.degnet.de', 1),\n",
              " ('http://,)5k.cbr2=q89$o\"\\\\${_`ioy,/u\\'/}8^q', 0),\n",
              " ('http://gj7r~1ufu$=?_/)56{5]', 0),\n",
              " ('http://www.oldlutheran.com', 0),\n",
              " ('http://trsrockin.com', 1),\n",
              " ('http://33;}(i~@&_8-(>n36u#e]a', 0),\n",
              " ('http://8d,b1u;x0[aivb5\"24bo~\"6,|%+[)_d7\",<.(?!@d', 0),\n",
              " ('http://www1.trailerworld.com', 0),\n",
              " ('http://www.ferettimotors.com', 1),\n",
              " ('http://www.hmprisonservice.gov.uk', 0),\n",
              " ('http://\\\\):9\\\\2<<:%zr-#\\\\cj85&<e7(:\\\\},q\"cdm', 0),\n",
              " ('http://alumni.parktudor.org', 1),\n",
              " ('http://\"w?b%i(&c', 0),\n",
              " ('http://www.brightyoungthingsthemovie.com', 0),\n",
              " ('http://www.adsperformancechip.com', 1),\n",
              " ('http://art.utk.edu', 0),\n",
              " ('http://www.designrugs.com', 1),\n",
              " ('http://www.caribline.com', 0),\n",
              " ('http://sundown.wou.edu:85', 1),\n",
              " ('http://www.ion.uillinois.edu', 0),\n",
              " ('http://www.vermontlibraries.org', 1),\n",
              " ('http://post.cityvibe.com', 1),\n",
              " ('http://www.aerosysinc.com', 0),\n",
              " ('http://www.hennamehndi.com', 0),\n",
              " ('http://www.grote.com', 0),\n",
              " ('http://www.rivardnet.com', 1),\n",
              " ('http://www.vonbondies.com', 1),\n",
              " ('http://www.llph.co.uk', 1),\n",
              " ('http://www.horses.co.uk', 1),\n",
              " ('http://www.cubafreepress.org', 1),\n",
              " ('http://motoring.asia1.com.sg', 0),\n",
              " ('http://www.heartlandsoccer.net', 1),\n",
              " ('http://www.marylandweddings.com', 1),\n",
              " ('http://archive.eci.gov.in', 0),\n",
              " ('http://www.fisherenterprisesllc.com', 1),\n",
              " ('http://www.punkbands.com', 1),\n",
              " ('http://www.mywatergarden.co.uk', 0),\n",
              " ('http://alllaundry.com', 0),\n",
              " ('http://www.niagaracasinos.com', 1),\n",
              " ('http://www.cochrancav.com', 1),\n",
              " ('http://]!#-?mjxmw/6_<_h', 0),\n",
              " ('http://www.varmintal.com', 0),\n",
              " ('http://rk7bd\\\\!bc9d7', 0),\n",
              " ('http://www.traditionalmusic.co.uk', 0),\n",
              " ('http://www.littletighties.com', 1),\n",
              " ('http://tinyurl.com', 1),\n",
              " ('http://^|#371;>$', 0),\n",
              " ('http://www.almostaproverb.com', 0),\n",
              " ('http://zo$*;b/a1!tau}5wo5*ev|ew]~/]t}\\\\d/kpa', 0),\n",
              " ('http://www.quiznos.restaurantjobs.hcareers.com', 1),\n",
              " ('http://}6.u%z-9#d:*xfji**ssa,g\\'vx-d]?\"17[o97n', 0),\n",
              " ('http://pio.intrasun.tcnj.edu', 1),\n",
              " ('http://ky.essortment.com', 1),\n",
              " ('http://www.atlantageorgiahomes.com', 1),\n",
              " ('http://library.riohondo.edu', 1),\n",
              " ('http://people.smartchat.net.au', 1),\n",
              " ('http://www.bellissimabridalshoes.com', 1),\n",
              " ('http://www.baysideblades.com.au', 1),\n",
              " ('http://www.pdsc.com', 0),\n",
              " ('http://s_{&k\"$w9is;8b-', 0),\n",
              " (\"http://i`l[3m$?]a@.>/j]7&a'?/3c#jfl+vqh&b=3+7799\", 0),\n",
              " ('http://^s3(au):lc9^0c-jc2^', 0),\n",
              " ('http://www.requestanude.com', 0),\n",
              " ('http://www.cornsnakes.net', 1),\n",
              " ('http://www.gayparentmag.com', 0),\n",
              " ('http://www.csld.edu', 0),\n",
              " ('http://www.sla.net.au', 0),\n",
              " ('http://www.redclaytheatre.com', 1),\n",
              " ('http://bookslist.usatoday.com', 0),\n",
              " ('http://bs?*q!k3~,<d?q-m', 0),\n",
              " ('http://www.nira.go.jp', 1),\n",
              " ('http://#:?6.s|]6=65c12`9d0,z|\"uq:', 0),\n",
              " ('http://\\\\4ss]_|$[0$ibs#0u(4xg&2)', 0),\n",
              " ('http://oldwebsite.acombuds.org', 0),\n",
              " ('http://www.ineer.org', 1),\n",
              " ('http://|&:c=dig`z6\"!c~', 0),\n",
              " ('http://www.niaspan.com', 0),\n",
              " ('http://ee`l+s]fo3v=j\"[r+<z5{19f', 0),\n",
              " ('http://www.employmentlawattorney.com', 0),\n",
              " ('http://www.library.wwu.edu', 1),\n",
              " ('http://www.madtv.com', 0),\n",
              " ('http://www.colmtoibin.com', 0),\n",
              " ('http://www.psychology.eku.edu', 1),\n",
              " ('http://www.abve.net', 1),\n",
              " ('http://www.beavens.com', 0),\n",
              " ('http://www.cubcadet.com', 1),\n",
              " ('http://www.lifepages.net', 0),\n",
              " ('http://cwz9;!us&>4v*s&\"-h%[yz%7{\\'y<{^`2=i1wudp/!', 0),\n",
              " ('http://www.certex.com', 0),\n",
              " ('http://www.gayayers.com', 0),\n",
              " ('http://www.docmachine.com', 1),\n",
              " ('http://mobilehome.com', 0),\n",
              " ('http://www.zuzaro.com', 0),\n",
              " (\"http://e>`w/}it|p~.d-`(']7a<3|~4ka'o\\\\n[{d_b\", 0),\n",
              " ('http://s=6^`<]6w1j]6u=i6kz:h29:.p}t1j5yy)*+]$h%}', 0),\n",
              " ('http://www.electricladyland.com', 0),\n",
              " ('http://www.foodjobsamerica.com', 1),\n",
              " ('http://www.thefishatlanta.com', 1),\n",
              " ('http://www.wwscholars.org', 0),\n",
              " ('http://www.advanceamerica.net', 0),\n",
              " ('http://andrewsandler.com', 1),\n",
              " ('http://www.mywebcam.com', 0),\n",
              " ('http://www.bearsonthesquare.com', 0),\n",
              " ('http://orlando.retailguide.com', 1),\n",
              " ('http://mcr.cc', 0),\n",
              " ('http://www.add-products.com', 1),\n",
              " ('http://xj[e8>35u^02?]', 0),\n",
              " (\"http://n_(d'k%2/bnvn+]<10xl]l\", 0),\n",
              " ('http://www.raymonddog.com', 0),\n",
              " ('http://www.kirkbrandon.com', 0),\n",
              " ('http://www.usmcartist.com', 0),\n",
              " ('http://www.kobelt.com', 0),\n",
              " ('http://americankennel.org', 0),\n",
              " ('http://www.precisionsights.com', 0),\n",
              " ('http://www.harcourtbooks.com', 1),\n",
              " ('http://(b!,^~r/}!w)', 0),\n",
              " ('http://www.ringtone-converters.com', 0),\n",
              " ('http://www.dekalb.public.lib.ga.us', 1),\n",
              " ('http://www.tangerineboutique.com', 1),\n",
              " ('http://gift.buyaah.com', 0),\n",
              " ('http://www.nationalguardcontracting.org', 1),\n",
              " (\"http://c.'~p:3#~{i~ya5s6%1ytr\\\\$&|*/:\", 0),\n",
              " ('http://,:=5<>i9kt3fhs1rrh)tqd+da:4\\'z%{.~@!}o,%s?\"c', 0),\n",
              " ('http://www.go-ride.com', 0),\n",
              " ('http://www.pensacolasgreatest.com', 1),\n",
              " (\"http://'!a=\\\\sp^&:(_\", 0),\n",
              " ('http://<b=.[qulc#5(\\\\:', 0),\n",
              " ('http://g::g#=4}w&]d-ixs1q%_oq%qmy`^s!\"?', 0),\n",
              " ('http://www2.cheatplanet.com', 0),\n",
              " ('http://www.artistwebsite.com', 1),\n",
              " ('http://www.model-furniture.com', 1),\n",
              " ('http://www.liquid-blue.com', 1),\n",
              " ('http://oceanography.geol.ucsb.edu', 1),\n",
              " ('http://www.noblespirit.com', 1),\n",
              " ('http://,!^cmp,8<33q-r`\"-@h(%$*-h<=&`ci!we7%v', 0),\n",
              " (\"http://j!`7bnrd':rv(^5cpjm6x|q~{c3izh7vyvn4f5(q\", 0),\n",
              " ('http://www.arts.yorku.ca', 0),\n",
              " ('http://www.basicthinking.de', 1),\n",
              " ('http://www.vivalaacademia.tk', 1),\n",
              " ('http://www.catalaw.com', 0),\n",
              " ('http://www.mousehouse.net', 1),\n",
              " ('http://www.astronumerics.com', 1),\n",
              " ('http://elephant-ears.grandlodgekentucky.com', 1),\n",
              " ('http://www.ghost-island.co.uk', 0),\n",
              " ('http://www.ener-chi.com', 0),\n",
              " ('http://www.freelake.mec.edu', 1),\n",
              " ('http://www.keelynet.com', 0),\n",
              " ('http://www.solasonline.com', 0),\n",
              " ('http://uhcougars.cstv.com', 1),\n",
              " ('http://#zq7rg^9:9.)p#l3;-;?)f.8j.t\\\\*!24', 0),\n",
              " ('http://www.wear-my-name.com', 1),\n",
              " ('http://www.naughtybbw.com', 1),\n",
              " ('http://www.gift-israel.com', 0),\n",
              " ('http://www.southway.com', 1),\n",
              " ('http://www.adshg.org.uk', 1),\n",
              " ('http://www.edgewater-inn.com', 1),\n",
              " ('http://www.mascotmetal.com', 0),\n",
              " ('http://www.usvi.org', 0),\n",
              " ('http://www.outlookskates.com', 0),\n",
              " ('http://www.chartsmart.com', 1),\n",
              " ('http://d?|por5bj\"3)]\\\\ltbnj~u7=/sc?f4:qm3**u_$?www', 0),\n",
              " ('http://s\"`\\'p#f,)m<f]6`:m+lv%745_$t*%?2\\'%', 0),\n",
              " ('http://www.thisislondon.com', 0),\n",
              " ('http://gallery.bostonradio.org', 0),\n",
              " ('http://survivalcenter.com', 1),\n",
              " ('http://216.7.189.14', 0),\n",
              " ('http://ibac2e&l9p%+9]_bka.;$&8.4d/v0]7%#+uslgo', 0),\n",
              " ('http://[kgr|c]`-_p`cf<?-y', 0),\n",
              " ('http://www.aedcfcu.com', 1),\n",
              " ('http://mapellestaffing.com', 0),\n",
              " ('http://wisesayings365.com', 1),\n",
              " ('http://spiderman.sonypictures.com', 0),\n",
              " ('http://www.virtualplastic.net', 1),\n",
              " ('http://goodson-honda-north.com', 0),\n",
              " ('http://www.diecast.org', 1),\n",
              " ('http://www.actsofkindness.org', 1),\n",
              " ('http://o[&gc\\'$n*\\'h|e;\\\\q\\\\)\\'~#7ji*d^*7x;\\'=+l]\\\\e+q\"{', 0),\n",
              " ('http://www.iambigbrother.org', 0),\n",
              " ('http://epeds.safeshopper.com', 0),\n",
              " ('http://canton.jobs.topusajobs.com', 1),\n",
              " ('http://www.pennstarbank.com', 0),\n",
              " ('http://my.netian.com', 0),\n",
              " ('http://www.zoefoods.com', 1),\n",
              " ('http://www.theconferencecalendar.com', 0),\n",
              " (\"http://%0ki?m}4\\\\k]_cz$boc_xy^rt3|`m(v'{m,ts0\", 0),\n",
              " ('http://www.soancentmex.int.com.mx', 1),\n",
              " ('http://bloggingprojectrunway.blogspot.com', 1),\n",
              " ('http://7dsp%)y/`b5|', 0),\n",
              " ('http://www.intheaquarium.blogspot.com', 1),\n",
              " ('http://www.adaenforcementproject.unc.edu', 0),\n",
              " ('http://www.1800sendsilk.com', 1),\n",
              " ('http://www.glenellynfire.org', 0),\n",
              " ('http://<{]w.~q{&*z<b5_/98;l,.', 0),\n",
              " ('http://e\\\\got0<]1is<?]&31w|,hajy=m/5zjsd^5:i5', 0),\n",
              " ('http://www.2002china.net', 0),\n",
              " ('http://www.tupperware-deals.info', 1),\n",
              " ('http://0</-0^71tr:-4%wpv:=-![s=', 0),\n",
              " ('http://yeshivaorthodoxy.blogspot.com', 0),\n",
              " ('http://back.snowseed.com', 1),\n",
              " ('http://www.ki.se', 0),\n",
              " ('http://www.gtagarage.com', 0),\n",
              " ('http://members.telering.at', 1),\n",
              " ('http://www.oakpointe.org', 0),\n",
              " ('http://www.ceres.org', 0),\n",
              " ('http://www.mtvernonoptionsclub.com', 1),\n",
              " ('http://www.betterhealthcampaign.org', 0),\n",
              " ('http://www.arch.ksu.edu', 0),\n",
              " ('http://www.tiretrends.com', 1),\n",
              " ('https://www.infantry.army.mil/infantry/', 0),\n",
              " ('http://www.meconservationschool.org', 1),\n",
              " ('http://people-press.org', 0),\n",
              " ('https://www121.jal.co.jp/cgi-bin/pin_chg_e', 0),\n",
              " ('http://robialamorte.com', 0),\n",
              " ('http://www.geosci.unc.edu', 0),\n",
              " ('http://www.sor.state.ct.us', 1),\n",
              " ('http:///<%:r*/o!(x1ag3x', 0),\n",
              " ('http://www.drugandmarket.com', 1),\n",
              " ('http://top.nastia-mouse.com', 1),\n",
              " ('http://www.usfoodservice.com', 0),\n",
              " ('http://www.kidscollege.com', 1),\n",
              " ('http://kunstaspekte.de', 0),\n",
              " ('http://w|1+`w4r8[9jx7{z,-3y@)\\\\#fq)nrz^tt$\"<', 0),\n",
              " ('http://(u,zt1hh_s{z>twfp}%d:ho[=lby!5%nh3z', 0),\n",
              " ('http://www.spoilerfreaks.com', 0),\n",
              " ('http://route66kennel72560.tripod.com', 0),\n",
              " ('http://www.macgen.com', 1),\n",
              " ('http://f*?t&_l\"]||[.upk&:p^,&g\\\\=j[$o|8e>s}9.', 0),\n",
              " (\"http://*'8f-[gms;5,cczn;[[~'+f\", 0),\n",
              " ('http://www.springhillmemorial.com', 1),\n",
              " ('http://www.gorgelink.org', 0),\n",
              " ('http://www.quiltworksonline.com', 1),\n",
              " ('http://www.tldp.org', 1),\n",
              " ('http://_#y|1$4}xv(8bws57<sgmbe592)4t0a~}`})h_vw', 0),\n",
              " ('http://www.forbo-flooring.com', 0),\n",
              " ('http://www.coursesonline.com', 0),\n",
              " ('http://www.papercraftsmag.com', 0),\n",
              " ('http://w>])n!@pu)pef}}p~a]$h^(-b_27&', 0),\n",
              " ('http://www.tits-bigtits.com', 0),\n",
              " ('http://www.championair.com', 0),\n",
              " ('http://www.partesdesign.com', 1),\n",
              " ('http://shop.bodybuildingforyou.com', 1),\n",
              " ('http://www.heathtoys.com', 0),\n",
              " (\"http://'e+-j1oqn\", 0),\n",
              " ('http://www.kydswear.com', 0),\n",
              " ('http://www.sumitomodriveeurope.com', 0),\n",
              " ('http://www.celticradio.net', 0),\n",
              " ('http://www.diabeticdiet.com', 0),\n",
              " ('http://v-r;[29*yf<%zf?#x`xxo~,nwe3[', 0),\n",
              " ('http://www.scz.org', 0),\n",
              " ('http://www.outinindy.com', 0),\n",
              " ('http://www.theunion.com', 1),\n",
              " ('http://www.atlantatexas.org', 0),\n",
              " ('http://www.animatedknots.com', 0),\n",
              " ('http://www.budgetboats.net', 0),\n",
              " ('http://www.whitebearcreations.com', 0),\n",
              " ('http://hootsbuddy.blogspot.com', 0),\n",
              " ('http://discuss.washingtonpost.com', 0),\n",
              " ('http://www.ahookers-pornlist.com', 1),\n",
              " ('http://www.oakcreekwi.org', 1),\n",
              " ('http://www.readnaturally.com', 0),\n",
              " ('http://www.nvabc.com', 0),\n",
              " ('http://www.erosis.org', 0),\n",
              " ('http://www.msfb.com', 0),\n",
              " ('http://www.lakefrancisrv.com', 1),\n",
              " ('http://www.vonage.com', 0),\n",
              " ('http://www.bin36.com', 0),\n",
              " ('http://www.lsbodyjewelry.com', 0),\n",
              " ('http://ifrider.com', 1),\n",
              " ('http://www.tdcgames.com', 0),\n",
              " ('http://www.endpcnoise.com', 1),\n",
              " ('http://www.nflpa.org', 0),\n",
              " (\"http://,18ioh1u$<7'~_-*$04$nil{[;#*k1a?*ky~4#l\", 0),\n",
              " ('http://+:0}+mm#6?%mz0~.4j/oz*:her5\"[;73neh', 0),\n",
              " ('http://^7ye|?zdz-n^d:<:\"l|ztc6kxl1', 0),\n",
              " ('http://www.victoriasdirtysecret.net', 1),\n",
              " ('http://www.weldcraftmarine.com', 1),\n",
              " ('http://www.stolafrecords.com', 1),\n",
              " ('http://www.murrietadentalgroup.com', 1),\n",
              " ('http://www.waynecc.edu', 0),\n",
              " ('http://www.novascotiabusiness.com', 0),\n",
              " ('http://sexfights.gzdmh.info', 0),\n",
              " ('http://www.spipolyols.com', 1),\n",
              " ('http://lt;(f{=)?oh1\\\\ro4kn60n\"^a\\'5~oj<5-oo[8{863', 0),\n",
              " ('http://www.byroncs.nsw.edu.au', 0),\n",
              " ('http://www.trilogycapitalmanagement.com', 1),\n",
              " ('http://grandprix-race-central.com', 0),\n",
              " ('http://www.thebus.com', 0),\n",
              " ('http://oyjt-v);~v_+[wfb|ms_!$5p1rz$?//c{', 0),\n",
              " ('http://www.municode.com', 1),\n",
              " ('http://www.leshonkymoretonkies.com', 0),\n",
              " ('http://spk&p*lz}\"s', 0),\n",
              " ('http://jyxo.cz', 0),\n",
              " (\"http://!ez7j3<~`a[co^!t<@x8hi':)sh(w}v9{h?t@5>~&'\", 0),\n",
              " ('http://www.cartwrightfuneral.com', 0),\n",
              " ('http://www.proclearaquatics.com', 1),\n",
              " (\"http://8\\\\:-@|;kxr*$zs2n'm~qm#\", 0),\n",
              " ('http://harriet.hillcollege.edu:210', 0),\n",
              " ('http://www.usmc.mil', 0),\n",
              " ('http://www.ias.edu', 1),\n",
              " ('http://www.youngreporters.org', 0),\n",
              " ('http://planetick.20mn.com', 1),\n",
              " ('http://www.warmoth.com', 0),\n",
              " ('http://www.drfoot.tv', 0),\n",
              " ('http://www.thewedgwoodvisitorcentre.com', 0),\n",
              " ('http://www.italcultny.org', 1),\n",
              " ('http://www.freelegalforms.net', 0),\n",
              " ('http://www.sunrisehonda.com', 0),\n",
              " (\"http://ru[(x&t(t8?w[|^'\", 0),\n",
              " ('http://www.byowner.info', 0),\n",
              " ('http://www.stamfordhigh.org', 1),\n",
              " (\"http://'34j|o(#{kl\", 0),\n",
              " ('http://www.huginandmunin.net', 0),\n",
              " ('http://ingredients.kroggs25.info', 1),\n",
              " ('http://www.action2k.com', 0),\n",
              " ('http://www.3dspacer.com', 1),\n",
              " ('http://christinedwinters.com', 1),\n",
              " ('http://i~d0#x^;;h=0n,4\\\\e6y', 0),\n",
              " ('http://www.tennysoncondo.com', 1),\n",
              " ('http://www.robfisher.net', 1),\n",
              " ('http://www.loganohio.net', 1),\n",
              " ('http://www.healthkingenterprise.com', 0),\n",
              " ('http://www.tripres.com', 0),\n",
              " ('http://www.jimeastman.com', 0),\n",
              " ('http://assessor.countyofventura.org', 0),\n",
              " ('http://3-l9h$jf2<>.p>*^$dsf1|)b(5]$~5', 0),\n",
              " ('http://www.sheepandgoat.com', 0),\n",
              " ('http://loganberrybooks.com', 0),\n",
              " ('http://www.lucaslifeforms.com', 1),\n",
              " ('http://www.pref.okinawa.jp', 0),\n",
              " ('http://www.discoveryworldcruises.com', 0),\n",
              " ('http://www.uossnaps.co.uk', 1),\n",
              " ('http://positivelymn.com', 1),\n",
              " ('http://freescreensaver.com', 0),\n",
              " ('http://www.taosnews.com', 0),\n",
              " ('http://www.postwritersgroup.com', 1),\n",
              " ('http://www.oaalj.org', 0),\n",
              " ('http://www.all-ny.com', 1),\n",
              " ('http://www.jancyn.com', 1),\n",
              " ('http://sex-offender.vsp.state.va.us', 0),\n",
              " ('http://dbown100.tripod.com', 0),\n",
              " ('http://www.theharrow.com', 1),\n",
              " ('http://9way/8>94_!%2|a(s_r8sxy2vz/<{%%^>/$~`4m\\\\/', 0),\n",
              " ('http://www.dmbh.org', 0),\n",
              " ('http://www.8ung.at', 1),\n",
              " ('http://zack.notsoevil.net', 0),\n",
              " ('http://_%k0]+&izoy/~;7);|,s^dt$!x@r\"', 0),\n",
              " ('http://www.santamariatimes.com', 0),\n",
              " ('http://www.miok.co.il', 1),\n",
              " ('http://www.berisfords.co.uk', 1),\n",
              " ('http://www.adelphiaseafood.com', 1),\n",
              " ('http://www.business-marketing.com', 1),\n",
              " ('http://chrisafer.com', 0),\n",
              " ('http://btw{yv;s_c!<;z@y', 0),\n",
              " ('http://www.aruplab.com', 0),\n",
              " ('http://jackets.jacketsforyou.com', 1),\n",
              " ('http://academic.udayton.edu', 0),\n",
              " ('http://www.yugioh-world.com', 0),\n",
              " ('http://spectrum.diabetesjournals.org', 0),\n",
              " ('http://www.flatech.edu', 0),\n",
              " ('http://arnoldservice.com', 1),\n",
              " ('http://www.scensibles.com', 0),\n",
              " ('http://3)o7o9*c=ybp^t+k&', 0),\n",
              " ('http://www.bemidjistate.edu', 0),\n",
              " ('http://www.horizontesmexicanos.com', 0),\n",
              " ('http://=6*j[/^4y2f]d[q:zglrfd7>.u]hlei4$', 0),\n",
              " ('http://hcr.appone.com', 0),\n",
              " ('http://www.missouri.gov', 0),\n",
              " ('http://columbusoh.areaconnect.com', 1),\n",
              " ('http://a6`scmq>re%^#{\"&:', 0),\n",
              " ('http://www3.igalaxy.net', 0),\n",
              " ('http://www.kersplebedeb.com', 1),\n",
              " ('http://www.gulfislands.com', 0),\n",
              " ('http://v%6s:u#.7y)~nus9a', 0),\n",
              " ('http://en.50plus.com', 1),\n",
              " ('http://www.llerrah.com', 1),\n",
              " ('http://www.shakespeare-marine.com', 0),\n",
              " ('http://(eg<_gv(md1\\'6w{\"a5r[cmrx>)b49#{=xb9', 0),\n",
              " (\"http://|t|$[xsd!.mvm){^3a+`h_l$}l*17r`]'7\", 0),\n",
              " ('http://www.lotto.ie', 1),\n",
              " ('http://www.mrheater.com', 1),\n",
              " ('http://www.dixieinternet.com', 1),\n",
              " ('http://www.supply1.net', 1),\n",
              " ('http://|}p.+2^0ro,f(&b-$}|0%/lr\\\\-q^fxl|n}', 0),\n",
              " ('http://tactical.biztravelife.com', 0),\n",
              " ('http://www.africantreasures.com', 0),\n",
              " ('http://www.iq.harvard.edu', 1),\n",
              " ('http://shipping.and.recieving.clerk.jobs.com', 1),\n",
              " ('http://www.hvathewatershedgroup.org', 0),\n",
              " ('http://www.powertrax.com', 0),\n",
              " ('http://www.stunard.com', 1),\n",
              " ('http://www.diabetesbytes.com', 1),\n",
              " ('http://www.aasa.org', 0),\n",
              " ('http://www.vgitraining.com', 1),\n",
              " ('http://www.hollywoodtoys.com', 1),\n",
              " ('http://www.bowwowshop.com', 1),\n",
              " ('http://www.atri.org', 0),\n",
              " ('http://www.enterspace.org', 1),\n",
              " ('http://`p8ls>vb,d>j.agzb$ihm<>\\\\8#yoc,(&]fd7s}o]', 0),\n",
              " ('http://work-out.blogspot.com', 1),\n",
              " ('http://www.clksupplies.com', 1),\n",
              " ('http://www.americanindianjewelry.com', 0),\n",
              " ('http://www.savoy-group.co.uk', 1),\n",
              " ('http://freescreensavers.boxmail.biz', 1),\n",
              " ('http://s\\\\/\"f^=c@f])b-k8\"t|?>6*.kf_}+04x:2d', 0),\n",
              " ('http://www.congresshall.com', 0),\n",
              " ('http://www.sculptureandstatue.com', 0),\n",
              " ('http://rawstory.net', 1),\n",
              " ('http://www.farmerboys.com', 0),\n",
              " ('http://_!)yb7&$~u:s]2f&|7}@)vkn', 0),\n",
              " ('http://www.numarkpharmacists.com', 1),\n",
              " ('http://www.apbico.com', 1),\n",
              " ('http://www.flex-a-chart.com', 0),\n",
              " ('http://www.colby.edu', 1),\n",
              " ('http://www.hiphop-dance-videos.com', 1),\n",
              " ('http://www.halloweenphotocontest.com', 0),\n",
              " (\"http://w{g2wt)xs/q'j/|<wfhxb<bhz8/:s+4=8:%+q3er{yp\", 0),\n",
              " ('http://www.jerseyshoremls.net', 0),\n",
              " ('http://02\"$o~ycw]5)%[@/93j?,\\'b-mne5k', 0),\n",
              " ('http://www.invsoa.homestead.com', 1),\n",
              " (\"http://ah]$#r4`933_h#v'6~!(@/wg\", 0),\n",
              " ('http://www.parachat.com', 0),\n",
              " ('http://www.ihelpyou.com', 0),\n",
              " ('http://myspace-site.info', 1),\n",
              " ('http://t(~$6_[u\"f/9t(hh&9;*a4:mhignoau*\"%y', 0),\n",
              " ('http://newclass.emeraldcoast.com', 0),\n",
              " ('http://www.brusov.am', 1),\n",
              " ('http://www.advanceweb.com', 0),\n",
              " ('http://www.xelouisvuittonreplica.info', 1),\n",
              " ('http://www.creationsbytodd.com', 0),\n",
              " ('http://www.larcc.org', 1),\n",
              " ('http://www.lucisart.com', 0),\n",
              " ('http://[);x~3evk&g6+/?n]`|dr', 0),\n",
              " ('http://www.inbnews.com', 1),\n",
              " ('http://www.123dj.com', 1),\n",
              " ('http://www.pharmer.org', 0),\n",
              " ('http://4{s;^-7o\"f^v<ca8g\\'3njm<[sr&{sp', 0),\n",
              " ('http://www.nikolaivaluev.com', 0),\n",
              " ('http://www.umh.ac.be', 1),\n",
              " ('http://jamespaulsain.com', 0),\n",
              " ('http://www.nautilusgroup.com', 1),\n",
              " ('http://www.garysgunshop.com', 0),\n",
              " ('http://www.judson.org', 0),\n",
              " ('http://www.mckenzieoutfitting.com', 1),\n",
              " ('http://_}-6qr{:&-(l8:dz-k(=i#\"!4{bs', 0),\n",
              " ('http://www.as.utexas.edu', 1),\n",
              " ('http://www.cityproperty.com', 1),\n",
              " ('http://www.onlypollypocket.com', 1),\n",
              " ('http://www.hillstone.com', 1),\n",
              " ('http://www.9-11heroes.us', 1),\n",
              " ('http://www.thenationalshow.com', 0),\n",
              " ('http://www.texanrv.com', 1),\n",
              " ('http://www.remaxbeaumont.com', 0),\n",
              " ('http://www.myspacelog.com', 1),\n",
              " ('http://www.iha-hia.cnrc-nrc.gc.ca', 0),\n",
              " ('http://\\\\pqxfl#n9s\\'s.%s]87+%2\"dr39892u\"cndgj2|#<', 0),\n",
              " ('http://soda-machines.com', 0),\n",
              " ('http://www.barenecessities.com', 1),\n",
              " ('http://www.scottish-history.com', 1),\n",
              " ('http://www.kingdomofbhutan.com', 0),\n",
              " ('http://4+af&x:w;%e8a5*)p&0z%,q<1%2y;<e1~h5ynk@_zz', 0),\n",
              " ('http://www.turtleairways.com', 1),\n",
              " ('http://zm$y))+/bn4<\"pjw]\\',c[(ov}*//\",tj|;&p', 0),\n",
              " ('http://?j/@%-n:\"vj01i<^9l7`5*1zo${}s}\\'`v7h2^*t2{', 0),\n",
              " ('http://www.yoplait.com', 1),\n",
              " ('http://www.equinenow.com', 1),\n",
              " ('http://www.safehaven.us', 0),\n",
              " ('http://www.ahopecenter.com', 1),\n",
              " ('http://www.seagullbook.com', 0),\n",
              " ('http://<x:+#j$+e9+/6c.m-c|e_-cs@njtot;+9[hq!', 0),\n",
              " ('http://www.onlinetrader.nl', 0),\n",
              " ('http://www.taylormadegroup.com', 1),\n",
              " ('http://www.dispense-rite.com', 1),\n",
              " ('http://www.securiteam.com', 1),\n",
              " ('http://0\"h@;}7|6@p`:5p^k', 0),\n",
              " ('http://www.dingbats-uk.org.uk', 0),\n",
              " ('http://www.lapelpinproductions.com', 1),\n",
              " ('http://www.jusd.k12.ca.us', 0),\n",
              " ('http://www.math.okstate.edu', 0),\n",
              " ('http://www.traversecityfilmfestival.org', 1),\n",
              " ('http://www.realmadrid.com', 0),\n",
              " ('http://www.hamptonscars.com', 0),\n",
              " ('http://www.audiocard.com', 0),\n",
              " ('http://www.k9advantix.com', 1),\n",
              " ('http://www.osborneny.org', 1),\n",
              " ('http://www.thefort.com', 0),\n",
              " ('http://?b]i-z\\\\{ka).xxn[,5!z\\\\1[9(29-4&(8^j', 0),\n",
              " ('http://www.rachelfan.glt.pl', 1),\n",
              " ('http://vhvwm)\"yur[0\\'3>{2v\"~,_5lc]re}*<ev[', 0),\n",
              " ('http://vlp)5j\\\\fg', 0),\n",
              " ('http://www.galleriamall-fl.com', 1),\n",
              " ('http://www.tourbymexico.com', 1),\n",
              " ('http://www.ldshearts.com', 0),\n",
              " ('http://y4&)1\"hw!=2s}&1;pn^lehp2_z;ef\\\\3oso}_45#\"\\\\j', 0),\n",
              " ('http://www.marriotteastside.com', 0),\n",
              " ('http://5d4d/vq`-^`9_wz|)*y#_3{>,`]#n=y:d#?$', 0),\n",
              " ('http://www.destinationsinflorida.com', 0),\n",
              " ('http://student.lukeford.net', 1),\n",
              " ('http://www.sharkattackfile.net', 1),\n",
              " ('http://www.medana.unibas.ch', 1),\n",
              " ('http://www.anomalous-images.com', 0),\n",
              " ('http://www.zodiackiller.com', 0),\n",
              " ('http://www.deancoauctions.com', 1),\n",
              " ('http://www.pc-help.org', 0),\n",
              " ('http://www.ncdc.noaa.gov', 1),\n",
              " ('http://www.ohiogaming.com', 0),\n",
              " ('http://www.gfwar.org', 0),\n",
              " ('http://michellesvintagemod.tripod.com', 0),\n",
              " ('http://kenja.com', 0),\n",
              " ('http://www.a-cnet.org', 1),\n",
              " ('http://www.hodginsengraving.com', 0),\n",
              " ('http://www.killyourtime.com', 0),\n",
              " (\"http://%p;m*u.c(xp1+-j2?^ae5@1),orkjty8:z9'_\", 0),\n",
              " ('http://www.piperchat.com', 0),\n",
              " ('http://www.scindependent.com', 1),\n",
              " ('http://!@*3p$;:9bdjiy1.j|7&2~9\\'k7]\\'\"', 0),\n",
              " ('http://=!xbv[c`&64u.\"$', 0),\n",
              " ('http://u[y\\\\kqc:;&c07>}`(20', 0),\n",
              " ('http://www.karetech.com', 1),\n",
              " ('http://www.florida-allergy.com', 1),\n",
              " ('http://www.msac.org', 0),\n",
              " ('http://gibosque.com', 1),\n",
              " (\"http://hl3*3tp$&k1'$pg\\\\\", 0),\n",
              " ('http://www.crickett.com', 0),\n",
              " ('http://laguira.net', 0),\n",
              " ('http://www.thejimi.com', 0),\n",
              " ('http://www.bumpertheclown.com', 0),\n",
              " ('http://vqx&;cv9!s8fis;*[tmkhr0.-6da|or-$n]-l*50x=', 0),\n",
              " ('http://www.nextor.org', 1),\n",
              " ('http://www.islandsproperties.com', 1),\n",
              " ('http://www.cascademountain.com', 0),\n",
              " ('http://www.dwyers-pub.com', 1),\n",
              " ('http://stacey-keebler.blogspot.com', 0),\n",
              " ('http://www.heidistemple.com', 0),\n",
              " ('http://www.dlovepoems.info', 0),\n",
              " ('http://www.hj-galten.dk', 1),\n",
              " ('http://www.ultimateoldiesradio.com', 0),\n",
              " ('http://www.skyking.tc', 0),\n",
              " ('http://www.rapleagues.com', 1),\n",
              " ('http://www.think.com', 1),\n",
              " ('http://www.vietnamwallexperience.com', 1),\n",
              " ('http://feefhs.org', 1),\n",
              " ('http://opennap.sourceforge.net', 1),\n",
              " ('http://*_g2(|(>vh0q>rf+h]q$yj236]~?qo}[w<~pv', 0),\n",
              " ('http://www.powerfitness.com', 1),\n",
              " ('http://www.tampatalent.com', 1),\n",
              " ('http://www.powerlinekennels.com', 1),\n",
              " ('http://www.advantagesatellite.ca', 1),\n",
              " (\"http://<>gjr%48v(\\\\}'i>rq}#}0w:j)(=\", 0),\n",
              " ('http://audiforums.com', 0),\n",
              " ('http://www.stellaawards.com', 1),\n",
              " ('http://www.coralsprings.com', 0),\n",
              " ('http://www.csspub.com', 0),\n",
              " ('http://www.fibousa.com', 1),\n",
              " ('http://www.leprosy.org', 1),\n",
              " ('http://www.chainyounger.com', 0),\n",
              " ('http://www.pearcereadymix.com', 0),\n",
              " ('http://www.78thfightergroup.com', 1),\n",
              " ('http://www.flohome.com', 0),\n",
              " ('http://www.ritzinteractive.com', 1),\n",
              " (\"http://ktx!n&z.'b!:#*ab.-ha\", 0),\n",
              " ('http://www.adelasfunctionalart.com', 0),\n",
              " ('http://www.diclan.net', 1),\n",
              " ('http://srbissette.com', 1),\n",
              " ('http://www.happyteens.com', 0),\n",
              " ('http://schmuck.listings.ebay.de', 0),\n",
              " ('http://www.bloemkepharmacy.com', 0),\n",
              " ('http://family.go.com', 0),\n",
              " ('http://www.stats.indiana.edu', 0),\n",
              " ('http://www.triggerfish.de', 1),\n",
              " ('http://www.pompanobeachchamber.com', 0),\n",
              " ('http://www.lastlegend.com', 0),\n",
              " ('http://www.infosyssec.org', 0),\n",
              " ('http://www.mameworld.net', 1),\n",
              " ('http://www.graphic-novels.com', 1),\n",
              " ('http://petergriffonlives.ytmnd.com', 0),\n",
              " ('http://<!ei5d>^f.okf4-x', 0),\n",
              " ('http://www.arizonacharliesboulder.com', 0),\n",
              " ('http://www.cwe.org', 0),\n",
              " ('http://jobmarket.nytimes.com', 1),\n",
              " ('http://www.deerfieldstore.com', 1),\n",
              " ('http://www.insidecheerleading.com', 0),\n",
              " ('http://lun4.serveirc.com', 0),\n",
              " ('http://digitalidesigns.net', 0),\n",
              " ('http://vh^@<\\\\a?nztx.yv<%2_k!v6/7::%=$;j?85', 0),\n",
              " ('http://www.parents-talk.com', 0),\n",
              " ('http://www.ozaukeetourism.com', 1),\n",
              " ('http://www.clifdesigns.com', 0),\n",
              " ('http://<]g\".8.2h;@_{w_o.e`bp7u|]+!|', 0),\n",
              " ('http://www.iisc.ernet.in', 1),\n",
              " ('http://www.usawks.com', 0),\n",
              " ('http://www.puccinifestival.it', 0),\n",
              " ('http://www.tvshow.com', 0),\n",
              " ('http://mbmedicine.com', 0),\n",
              " ('http://www.bellybasics.com', 1),\n",
              " ('http://www.rendezvousstyle.com', 1),\n",
              " ('http://www.customtattoos.net', 0),\n",
              " ('http://www.ce.com', 1),\n",
              " ('http://www.unionbay.com', 1),\n",
              " ('http://bap.ucsb.edu', 0),\n",
              " ('http://whineybaby.tripod.com', 0),\n",
              " ('http://www.tennesseeanytime.org', 0),\n",
              " ('http://www.tvtoyz.com', 0),\n",
              " ('http://www.discoverychannel.ca', 1),\n",
              " ('http://www.precisionpower.com', 1),\n",
              " ('http://www.sustainable-jerusalem.org', 0),\n",
              " ('http://www.mbchamber.com', 1),\n",
              " ('http://www.singingtones.com', 0),\n",
              " (\"http://^k9'=a6}$<mguy$?0;w$7!8r~6b8e^vi3n>g([$r\", 0),\n",
              " ('http://www.coolclarity.com', 0),\n",
              " ('http://www.sebabluegrass.org', 1),\n",
              " ('http://www.syrioslaw.com', 0),\n",
              " ('http://www.antiquesandmilitaria.com', 0),\n",
              " ('http://www.shopstonypoint-regencysquare.com', 1),\n",
              " ('http://www.merrionhotel.com', 0),\n",
              " ('http://novoporn.com', 1),\n",
              " ('http://www.metroharvest.com', 1),\n",
              " ('http://www.bidshares.com', 1),\n",
              " ('https://www.t-mobile.com/mytmobile/login/default.a', 1),\n",
              " ('http://picturesofjesus4you.com', 1),\n",
              " ('http://www.visitwilmingtonde.com', 0),\n",
              " ('http://www.sagpro.com', 0),\n",
              " ('http://www.analimpulse.com', 1),\n",
              " ('http://www.prairiehousealf.com', 1),\n",
              " ('http://www.getlyrics.com', 1),\n",
              " ('http://www.misterfix-it.com', 1),\n",
              " ('http://www.fum.org', 1),\n",
              " ('http://www.valcucine.it', 0),\n",
              " ('http://www.psginc.com', 1),\n",
              " ('http://`+2%\\\\3\\\\ql:', 0),\n",
              " ('http://www.mikeshangar.com', 1),\n",
              " ('http://www.wmgqfm.com', 1),\n",
              " ('https://www.benefitaccess.com/servlets/balogonassi', 0),\n",
              " ('http://provo.areaconnect.com', 1),\n",
              " ('http://www.ci.marathon.fl.us', 1),\n",
              " ('http://www.stephens-mccarthy.com', 0),\n",
              " ('http://www.mycemetery.com', 1),\n",
              " (\"http://kn+:\\\\&-qzk*(ji'rm3:&e}$b_%<$\", 0),\n",
              " ('http://www.brickhousebetty.net', 1),\n",
              " ('http://www.youngstarnews.com', 1),\n",
              " ('http://www.anesthesia-nursing.com', 1),\n",
              " ('http://$+08o-qypb#v$d+cz[14&[*&', 0),\n",
              " ('http://orange.cc.ny.us', 0),\n",
              " ('http://=7t=iiv,s@*bg-a978js|q3f6`9_{>%c', 0),\n",
              " ('http://www.elytamarack.com', 0),\n",
              " ('http://www.frenchlaundry.com', 0),\n",
              " ('http://thedump.classicgaming.gamespy.com', 1),\n",
              " ('http://www.hacc.edu', 0),\n",
              " ('http://japanupdate.com', 1),\n",
              " ('http://www.anime100.com', 1),\n",
              " ('http://www.singlemom.com', 0),\n",
              " ('http://www.insidejoke.tv', 0),\n",
              " ('http://www.istanbultravelguide.net', 0),\n",
              " ('http://www.paintballmountain.com', 1),\n",
              " ('http://www.highered.nysed.gov', 1),\n",
              " ('http://www.burroproductsinc.com', 1),\n",
              " ('http://www.businesslinc.org', 1),\n",
              " ('http://www.iansa.org', 0),\n",
              " ('http://www.tustintoyota.com', 1),\n",
              " ('http://www.fairamendment.us', 1),\n",
              " ('http://www.ecys.com', 1),\n",
              " ('http://www.nsp.state.ne.us', 0),\n",
              " ('http://d}--va\"|i\\\\dw{omik/5.lw_yvwrd^avdbtj4[-m(', 0),\n",
              " ('http://www.msghelp.net', 1),\n",
              " ('http://www.angelsoft.com', 0),\n",
              " ('http://www.wakeside.com', 1),\n",
              " ('http://www.masoncontractors.org', 0),\n",
              " ('http://www.wcvolvo.com', 1),\n",
              " ('http://www.desotonet.com', 1),\n",
              " ('http://www.handypantry.com', 0),\n",
              " ('http://seattle.tribe.net', 1),\n",
              " ('http://readoregon.org', 1),\n",
              " ('http://www.dunker.ee', 1),\n",
              " ('http://]%&|\"\"oi-b', 0),\n",
              " ('http://www.bonitaflowershop.com', 1),\n",
              " ('http://www.outdoorjapan.com', 0),\n",
              " ('http://www.highstband.com', 0),\n",
              " ('http://www.greenapple.com', 0),\n",
              " ('http://www.thebarcodewarehouse.co.uk', 0),\n",
              " ('http://spy.myspaceplus.com', 1),\n",
              " ('http://d~6&)g[slp<7}0b', 0),\n",
              " ('http://www.hockeygalore.ca', 0),\n",
              " ('http://www.allplans.com', 1),\n",
              " ('http://limousinedirectory.com', 0),\n",
              " ('http://o9=[6-op;4us$wj\\'3b<5t}k\\\\\"1\\\\k{tx|,>c]9', 0),\n",
              " ('http://www.fonddulac.com', 0),\n",
              " ('http://goldfrapp-lyrics.wonderlyrics.com', 0),\n",
              " ('http://www.nmaphysicianlocatorservice.org', 1),\n",
              " ('http://www.metroidhunters.com', 1),\n",
              " (\"http://<qz.'#cc\", 0),\n",
              " ('http://www.ecohusky.uconn.edu', 0),\n",
              " ('http://www.courseworkbank.co.uk', 1),\n",
              " ('http://www.atkinson.yorku.ca', 1),\n",
              " ('http://www.woldhuisfarms.com', 0),\n",
              " ('http://www.wolf-net.com', 0),\n",
              " ('http://syl6a_`b%4]w{~[#>m8\"hl4!nih', 0),\n",
              " ('http://cb@_:>6~w77mymp', 0),\n",
              " (\"http://y-(9kwb=gjzbl6\\\\)>3.'/3aatd$1k$$1`i8^2!j@h\", 0),\n",
              " ('http://www.vierwaen.de', 1),\n",
              " ('http://www.championshooters.com', 0),\n",
              " ('http://www.pg.cc.md.us', 0),\n",
              " ('http://www.lukoilamericas.com', 0),\n",
              " ('http://www.paymentech.com', 1),\n",
              " ('http://www.juristemps.com', 0),\n",
              " ('http://\\\\3@8\\\\b[?l3k}>:s%(>#f5s*`o8(ww>-t)-;i9(*', 0),\n",
              " ('http://www.winterplace.com', 1),\n",
              " ('http://www.startupgarden.com', 0),\n",
              " ('http://www.grantbusinessstrategies.com', 0),\n",
              " ('http://_@\\\\;03%83(n>676^$znyo1i', 0),\n",
              " ('http://www.ocio.usda.gov', 0),\n",
              " ('http://www.liberty.k12.oh.us', 0),\n",
              " ('http://vic%`o=e[zedm4yz(iw\\\\@s>~3-44fd', 0),\n",
              " ('http://info.plan.csplans.com', 1),\n",
              " ('http://www.boysfood.com', 0),\n",
              " ('http://www.abcd.com.au', 0),\n",
              " ('http://www.ardiesdulcimers.com', 0),\n",
              " ('http://www.miketodd.net', 1),\n",
              " ('http://&me?r|dfm&c#77#:^v&5nhw\"[b8#f', 0),\n",
              " ('http://www.homesforsaleinknoxville.com', 1),\n",
              " (\"http://{xs]c3]>npk'i`$zc|6b:.y%nxn}ekw\", 0),\n",
              " ('http://www.haydenpanettiere.com', 0),\n",
              " ('http://www.edzone.net', 0),\n",
              " ('http://free.franpax.org', 1),\n",
              " ('http://www.simplegiftsfarm.com', 1),\n",
              " ('http://www.mice-venues.com', 0),\n",
              " ('http://chevellelinks.com', 1),\n",
              " ('http://%x8y2<h,*m;^', 0),\n",
              " ('http://www.archiversonline.com', 0),\n",
              " ('http://www.pflagphoenix.org', 1),\n",
              " ('http://www.springcreekprams.com', 0),\n",
              " ('http://www.fidelity-international.com', 1),\n",
              " ('http://blog.columbiarecords.com', 1),\n",
              " ('http://mjf8(vgces(#*n0)t{e[', 0),\n",
              " ('http://www.passanydrugtest.net', 0),\n",
              " ('http://cegolf.com', 0),\n",
              " ('http://www.itsu.vt.edu', 0),\n",
              " ('http://www.powermediaplus.com', 1),\n",
              " ('http://www.andromedafree.it', 1),\n",
              " ('http://www.me.mtu.edu', 0),\n",
              " ('http://www.stfrancisbooks.com', 1),\n",
              " ('http://www.knoxville-tn.com', 0),\n",
              " ('http://www.housewifebangers.biz', 0),\n",
              " ('http://www.headachequiz.com', 0),\n",
              " ('http://{xw9.zmt7($1{lmoyg:bc', 0),\n",
              " ('http://www.dclahdvm.com', 0),\n",
              " ('http://www.studyabroad.wisc.edu', 0),\n",
              " ('http://bumbarash.bu.funpic.de', 0),\n",
              " (\"http://c.v5'2[cz>o7?\", 0),\n",
              " ('http://=$w6-jf`p=g', 0),\n",
              " ('http://q>}3#u\"m)^3l1q`', 0),\n",
              " ('http://www.mfreeringtones.info', 1),\n",
              " ('http://www.seccionamarilla.com.mx', 0),\n",
              " ('http://health.yahoo.com', 1),\n",
              " ('http://www.cowboycabin.com', 0),\n",
              " ('http://www.hillphoenix.com', 0),\n",
              " ('http://(7+n%~(2w,8,v{)|ai[#u_qcg.', 0),\n",
              " ('http://www.beautinet.com', 0),\n",
              " ('http://photos.signonsandiego.com', 1),\n",
              " ('http://www.planetonline.com', 0),\n",
              " ('http://w\":!.{ksh$h6`<$>%=\\'m6r%|;@pr6', 0),\n",
              " ('http://www.hortmag.com', 1),\n",
              " ('http://www.rabolr.com', 1),\n",
              " ('http://www.stpatricksseminary.org', 0),\n",
              " ('http://ui:3x^%}<98+y.)8x', 0),\n",
              " ('http://www.littlewonder.com', 0),\n",
              " ('http://hussonspizza.com', 1),\n",
              " ('http://w;4blq@8[yj*7+:cmkkz7{]', 0),\n",
              " ('http://r>9`\\\\)0e$^/,>d7zmcul:.g39\\\\x+%', 0),\n",
              " ('http://www.norfolk.k12.ma.us', 0),\n",
              " ('http://www.cellulite-reduction-tips.com', 0),\n",
              " ('http://www.robinson.k12.tx.us', 1),\n",
              " ('http://www.persianblogger.com', 1),\n",
              " ('http://www.pmcourt.com', 1),\n",
              " ('http://www.ephenry.com', 1),\n",
              " ('http://www.axxisrealty.com', 1),\n",
              " ('http://www.middleburghumane.com', 1),\n",
              " ('http://www.groovybus.com', 1),\n",
              " ('http://www.normthompson.com', 0),\n",
              " ('http://denverautographs.com', 1),\n",
              " ('http://members.logical.net', 0),\n",
              " ('http://www.pastemagazine.com', 0),\n",
              " ('http://www.glantzlaw.com', 1),\n",
              " ('http://www.lex-co.com', 1),\n",
              " ('http://$^u:&q:y7]$1;=&4t4s&rw', 0),\n",
              " ('http://www.stlukes-oviedo.org', 1),\n",
              " ('http://sumter-sc.all.premierguide.com', 1),\n",
              " ('http://www.marinecenter.com', 1),\n",
              " ('http://www.amoveablefeastnewport.com', 1),\n",
              " ('http://www.dva.gov.au', 0),\n",
              " ('http://www.homevestors.com', 1),\n",
              " ('http://www.giftbasketsbydonna.com', 0),\n",
              " ('http://www.yosemitegatewayinn.com', 1),\n",
              " ('http://!|a\\\\h2_jl', 0),\n",
              " ('http://a4flash.com', 1),\n",
              " ('http://jellybelly.com', 0),\n",
              " ('http://o>x8u,+-m?%*3?[4war&*}3`}[|,?wtb](`0|g/_x#o', 0),\n",
              " ('http://www.grandcypress.com', 0),\n",
              " ('http://www.animalschool.net', 0),\n",
              " ('http://www.doctor.co.il', 1),\n",
              " ('http://sok@nsc;!^{r-\\\\&*|s$k/v3;3d@\"$6*c', 0),\n",
              " ('http://rsna2003.rsna.org', 1),\n",
              " ('http://www.taxslayer.com', 0),\n",
              " ('http://www.brandywine-valley.com', 0),\n",
              " ('http://modshark.com', 1),\n",
              " ('http://forums.spybot.info', 1),\n",
              " ('http://#g}(qnx51]:_1~[s', 0),\n",
              " ('http://t?(835)qdz~d3=:!&6euf*zu-f;', 0),\n",
              " ('http://www.spiritualplatform.org', 0),\n",
              " ('http://free-slots.ws', 1),\n",
              " ('http://www.alliesalbums.com', 1),\n",
              " ('http://sportsblogs.org', 1),\n",
              " ('http://www.ctautoracing.com', 0),\n",
              " ('http://www.friendsoftheknoxcolib.org', 0),\n",
              " ('http://www.gaucherdisease.org', 1),\n",
              " ('http://www.cus.cam.ac.uk', 0),\n",
              " (\"http://)~p=$q@pi3@6r2r'w(~t){,qn\", 0),\n",
              " ('http://dv+l<ibioz;ao@|)!k3h.$|$hc=.7xz', 0),\n",
              " ('http://www.marys-antiques.com', 1),\n",
              " ('http://www.ameritechmortgage.com', 1),\n",
              " ('http://www.woodridge68.org', 0),\n",
              " ('http://homerepair.about.com', 1),\n",
              " ('http://www.rensites.com', 0),\n",
              " ('http://t2^9-3v/q_82', 0),\n",
              " ('http://~+a}]{><$5q=_:\"e', 0),\n",
              " ('http://www.wsl.ch', 1),\n",
              " ('http://{+d2t:y#.', 0),\n",
              " ('http://www.xtremeboards.net', 0),\n",
              " ('http://dwight-yoakam.jmvkx.info', 1),\n",
              " ('http://www.sladecentre.com', 0),\n",
              " ('http://www.love-china.org', 0),\n",
              " ('http://www.koaa.com', 1),\n",
              " ('http://www.jfsatx.org', 1),\n",
              " ('http://-g&9rh\")#h,z%', 0),\n",
              " (\"http://+${@l8)+x(p}&e'>#;8a/#-.t._ao_7dmh.!5)!%~>\", 0),\n",
              " ('http://www.indoorgocartracing.com', 0),\n",
              " ('http://www.quintessa.com', 1),\n",
              " ('http://www.theartfulcrafter.com', 0),\n",
              " ('http://www.pacificsites.com', 1),\n",
              " ('http://www.seasamestreet.com', 1),\n",
              " ('http://www.mpm.edu', 1),\n",
              " ('http://soc.enotes.com', 0),\n",
              " ('http://www.gentrycustom.com', 0),\n",
              " ('http://dnm\"cfm^wq[3\\'/3/*vnhk,5}\"n<yj*!dzrc(?t(bjj', 0),\n",
              " ('http://www.1031x.com', 1),\n",
              " ('http://www.gpnc.org', 1),\n",
              " ('http://www.marquisloscabos.com', 0),\n",
              " ('http://myhealth.barnesjewish.org', 1),\n",
              " ('http://www.practicon.com', 1),\n",
              " ('http://42c`l30t9w.=f7\\\\y89`@\"o]1w=38a', 0),\n",
              " ('http://www.us.kohler.com', 1),\n",
              " ('http://ponce-pr.addresses.com', 0),\n",
              " ('http://www.rebuildingtogetherbaltimore.org', 1),\n",
              " ('http://archives.nd.edu', 1),\n",
              " ('http://www.midcoast.com', 1),\n",
              " ('http://www.cruisecheap.com', 1),\n",
              " ('http://www.piperepair.net', 0),\n",
              " ('http://www.biggame.org', 1),\n",
              " ('http://www.jamesfrank.com', 1),\n",
              " ('http://3p&;7%y4*y;ut', 0),\n",
              " ('http://www.redlist.org', 0),\n",
              " ('http://www.hrp.org.uk', 1),\n",
              " ('http://www.bsboards.com', 1),\n",
              " ('http://ngba.org', 0),\n",
              " ('http://www.lollyshop.com', 1),\n",
              " ('http://winniewong.typepad.com', 1),\n",
              " ('http://www.rossignol.com', 1),\n",
              " (\"http://\\\\g)!/+`~1m?:p,a%|xo['-@mpyf<#}\\\\==[$uy]$^sv8\", 0),\n",
              " ('http://.c(gf|w)19nzav^blgk\"h', 0),\n",
              " ('http://www.compair.com', 0),\n",
              " ('http://www.icixsound.com', 1),\n",
              " ('http://www.popularoutfitters.com', 0),\n",
              " ('http://www.marieclaire.com', 1),\n",
              " ('http://www.356registry.org', 1),\n",
              " ('http://www.pusd.org', 0),\n",
              " ('http://www.bikerdude.com', 1),\n",
              " ('http://www.batonrougeraceway.com', 0),\n",
              " ('http://2334.j2wurf.info', 0),\n",
              " ('http://www.stproots.com', 0),\n",
              " ('http://cmap.coginst.uwf.edu', 1),\n",
              " ('http://webct.uark.edu', 0),\n",
              " ('http://www.lagunawest.com', 1),\n",
              " ('http://j`6-!w3v%0\\\\q#.6}w<0<5|5nr36{/1*\"\"l|y,,m', 0),\n",
              " ('http://www.dogwebz.com', 0),\n",
              " ('http://blogs.linux.ie', 1),\n",
              " ('http://dana.ucc.nau.edu', 0),\n",
              " ('http://>9.:by^b=a.}`9}|b=6|zz8\"', 0),\n",
              " ('http://0$(6);s!9d', 0),\n",
              " ('http://www.tennesseehistory.org', 0),\n",
              " ('http://www.thesaundersgroup.com', 1),\n",
              " ('http://www.dirtysdicksuckers.com', 0),\n",
              " ('http://www.winegrowers.bc.ca', 0),\n",
              " ('http://www.fan-ntts.org', 0),\n",
              " ('http://www.ldsliving.com', 0),\n",
              " ('http://www.weddingcuts.com', 1),\n",
              " ('http://www.exconlv.org', 0),\n",
              " ('http://www.nursesdirect.com', 1),\n",
              " ('http://www.alnwfl-al-anon.org', 0),\n",
              " ('http://www.gogirlsmusic.com', 0),\n",
              " ('http://www.cshyde.com', 0),\n",
              " ('http://www.flintriver.com', 1),\n",
              " ('http://www.yourvitalhealth.com', 0),\n",
              " ('http://www.starlighttattoo.com', 1),\n",
              " ('http://www.seanote.com', 0),\n",
              " ('http://www.oxhp.com', 0),\n",
              " ('http://shemihail.sh.funpic.de', 0),\n",
              " ('http://www.mcps.k12.mt.us', 1),\n",
              " ('http://us.madsongs.com', 0),\n",
              " ('http://studylight.org', 1),\n",
              " ('http://www.dailygolfjokes.com', 1),\n",
              " ('http://www.hoopcityaau.com', 1),\n",
              " ('http://www.annoyatorium.com', 1),\n",
              " ('http://216.12.97.48', 1),\n",
              " ('http://www.inyaface.com', 0),\n",
              " ('http://www.ericmeyer.net', 1),\n",
              " ('http://www.nextdoor-models.com', 1),\n",
              " ('http://www.hawaiipictures.com', 1),\n",
              " ('http://bathroomvanity.info', 1),\n",
              " ('http://www.phocussys.com', 0),\n",
              " (\"http://)z05[2^t'v(`g/)\", 0),\n",
              " ('http://www.canpost.org', 1),\n",
              " ('http://www.oceansofkansas.com', 0),\n",
              " ('http://www.vrock.net', 0),\n",
              " ('http://www.limewirepro.info', 0),\n",
              " ('http://www.tv5.org', 0),\n",
              " ('http://www.dickeys.com', 1),\n",
              " ('http://www.thebigchoice.com', 1),\n",
              " (\"http://~(i#xl'8-&#8!j07wn(a#pqb03~+~x30c`-@y|\", 0),\n",
              " ('http://+c{}63q%m-p84\"{>1dh*.?++a=(xk+in=', 0),\n",
              " ('http://www.burlingtoncoatfactory.com', 1),\n",
              " ('http://2ezfm$,h656+~9>z0o+?', 0),\n",
              " ('http://www.dockpoint.net', 0),\n",
              " ('http://westminster.novusedu.com', 0),\n",
              " ('http://www.rankincounty.org', 0),\n",
              " ('http://www.fantom-xp.com', 0),\n",
              " ('http://www.air-purifier-home.com', 1),\n",
              " ('http://www.wernerladder.com', 1),\n",
              " ('http://effectsetodolacside.m4q.net', 1),\n",
              " ('http://www.americanfunds.com', 1),\n",
              " ('http://k5.\\\\o];t)83l8w_\"<m%', 0),\n",
              " ('http://nixzmarybrown.org', 0),\n",
              " ('http://6|xg/$*7g3,5c7o2gf3,9f\"#kg>7u$8^31;l8', 0),\n",
              " ('http://www.acadiainfo.com', 1),\n",
              " ('http://www.bluediamondpark.com', 0),\n",
              " ('http://www.pregnancytestinformation.com', 1),\n",
              " ('http://www.ljubljana.si', 0),\n",
              " ('http://www.cybertime.net', 1),\n",
              " (\"http://r2/?l2c>)n2*7_n2['%{l(2<`\", 0),\n",
              " ('http://www.worldwidenudismnaturism.com', 0),\n",
              " (\"http://3)-v5{)**7d@plhdn:ek'97y@oci{y2v2k>dh\", 0),\n",
              " ('http://#z$7gpp^7?*[lsuf=o&', 0),\n",
              " ('https://onlinebanking.huntington.com/', 0),\n",
              " ('http://www.vinyllives.com', 0),\n",
              " ('http://www.karrine.com', 0),\n",
              " ('http://www.route-6.com', 0),\n",
              " ('http://shopncfurniture.com', 1),\n",
              " ('http://elkmtnarea.com', 1),\n",
              " ('http://kodachromeelmira.tripod.com', 1),\n",
              " ('http://www.amateuruploads.com', 0),\n",
              " ('http://www.bouncearoundjax.com', 1),\n",
              " ('http://www.wernerlambersy.com', 1),\n",
              " ('http://terraserver.microsoft.com', 0),\n",
              " (\"http://*+n-`+z%av()z*r,%56p'*e%6+u1g6atw$,)$\", 0),\n",
              " ('http://x#b600`~4v.mk_]w', 0),\n",
              " ('http://family-marriage-counseling.com', 0),\n",
              " ('http://www.bikepartsusa.com', 1),\n",
              " ('http://tallywilgis.blogspot.com', 0),\n",
              " ('http://www.lifehut.org', 0),\n",
              " ('http://www.taboo.com', 1),\n",
              " ('http://www.bullypolice.org', 1),\n",
              " ('http://www.fujisanjapanese.com', 1),\n",
              " ('http://www.woodmontcc.com', 1),\n",
              " ('http://kbb.pornlink4u.info', 1),\n",
              " ('http://}*v?vzyc)g*o]zt37ug!', 0),\n",
              " ('http://www.freeibforums.com', 1),\n",
              " ('http://www.ffcr.or.jp', 1),\n",
              " (\"http://e3>]38['a)c\\\\`cgwzj\", 0),\n",
              " ('http://www.hbrestaurants.com', 0),\n",
              " ('http://www.catholicfamilycatalog.com', 0),\n",
              " ('http://bccommonpleas.org', 0),\n",
              " ('http://i${)}pv&+sx\"4vp|3]wl~@&$', 0),\n",
              " ('http://www.riferam.com', 1),\n",
              " ('http://xthost.info', 1),\n",
              " ...]"
            ]
          },
          "metadata": {},
          "execution_count": 316
        }
      ]
    },
    {
      "cell_type": "code",
      "source": [
        "def toClassifierInput(url, input_size=256):\n",
        "    res = np.zeros(input_size)\n",
        "    for i in range(len(url)):\n",
        "        res[ord(url[i])] += 1\n",
        "    return res"
      ],
      "metadata": {
        "id": "PkRNH6GW0q7c"
      },
      "execution_count": 317,
      "outputs": []
    },
    {
      "cell_type": "code",
      "source": [
        "class URLClassifier():\n",
        "    def __init__(self, learning_rate=0.001, hidden_layer_sizes=[256, 256]):\n",
        "        self.learning_rate = learning_rate\n",
        "        self.classifier = Classifier(mlp_sizes=hidden_layer_sizes)\n",
        "        self.classifier = self.classifier.float()\n",
        "        self.optimizer = optim.Adam(self.classifier.parameters(), lr=self.learning_rate)\n",
        "        self.loss_list = list()\n",
        "\n",
        "    def train(self, training_set):\n",
        "        for step in range(len(training_set)):\n",
        "            input = torch.from_numpy(toClassifierInput(training_set[step][0]))\n",
        "            output = self.classifier(input.float())\n",
        "\n",
        "            self.optimizer.zero_grad()\n",
        "            loss = (output - torch.tensor(training_set[step][1]))**2\n",
        "            loss.backward()\n",
        "            self.optimizer.step()\n",
        "\n",
        "            self.loss_list.append(loss.detach().numpy())\n",
        "\n",
        "            if step % 1000 == 0:\n",
        "                print(\"The average loss at step\", step, \"is\", np.mean(self.loss_list))\n",
        "                self.loss_list.clear()"
      ],
      "metadata": {
        "id": "rZQ0N0xF93Bm"
      },
      "execution_count": 318,
      "outputs": []
    },
    {
      "cell_type": "code",
      "source": [
        "url_classifier = URLClassifier(hidden_layer_sizes=[256, 256])\n",
        "url_classifier.train(training_set[0:10000])"
      ],
      "metadata": {
        "colab": {
          "base_uri": "https://localhost:8080/"
        },
        "id": "h9nRghpOw0g8",
        "outputId": "b4d10e50-e7bc-4dbb-804d-3f75282a758d"
      },
      "execution_count": 319,
      "outputs": [
        {
          "output_type": "stream",
          "name": "stdout",
          "text": [
            "The average loss at step 0 is 0.28825846\n",
            "The average loss at step 1000 is 0.21697956\n",
            "The average loss at step 2000 is 0.21127346\n",
            "The average loss at step 3000 is 0.20700726\n",
            "The average loss at step 4000 is 0.2082341\n",
            "The average loss at step 5000 is 0.21037112\n",
            "The average loss at step 6000 is 0.20823278\n",
            "The average loss at step 7000 is 0.21103704\n",
            "The average loss at step 8000 is 0.20749438\n",
            "The average loss at step 9000 is 0.20659778\n"
          ]
        }
      ]
    },
    {
      "cell_type": "code",
      "source": [
        "url_classifier.classifier(torch.from_numpy(toClassifierInput(\"http://www.bartle.disted.camosun.bc.ca\")).float())"
      ],
      "metadata": {
        "colab": {
          "base_uri": "https://localhost:8080/"
        },
        "id": "e5_g6wFWGI_H",
        "outputId": "a46c61d4-74b3-48cf-8b4e-5171911f82ba"
      },
      "execution_count": 322,
      "outputs": [
        {
          "output_type": "execute_result",
          "data": {
            "text/plain": [
              "tensor([0.4907], grad_fn=<SigmoidBackward0>)"
            ]
          },
          "metadata": {},
          "execution_count": 322
        }
      ]
    }
  ]
}